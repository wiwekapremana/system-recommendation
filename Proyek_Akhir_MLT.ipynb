{
  "nbformat": 4,
  "nbformat_minor": 0,
  "metadata": {
    "accelerator": "GPU",
    "colab": {
      "name": "Proyek_Akhir_MLT.ipynb",
      "provenance": [],
      "collapsed_sections": [],
      "include_colab_link": true
    },
    "kernelspec": {
      "display_name": "Python 3",
      "name": "python3"
    },
    "language_info": {
      "name": "python"
    }
  },
  "cells": [
    {
      "cell_type": "markdown",
      "metadata": {
        "id": "view-in-github",
        "colab_type": "text"
      },
      "source": [
        "<a href=\"https://colab.research.google.com/github/wiwekapremana/system-recommendation/blob/main/Proyek_Akhir_MLT.ipynb\" target=\"_parent\"><img src=\"https://colab.research.google.com/assets/colab-badge.svg\" alt=\"Open In Colab\"/></a>"
      ]
    },
    {
      "cell_type": "markdown",
      "metadata": {
        "id": "LYovhfBRVzbQ"
      },
      "source": [
        "# Nama : Komang Wiweka Premana\n",
        "## Dataset : https://www.kaggle.com/CooperUnion/anime-recommendations-database"
      ]
    },
    {
      "cell_type": "markdown",
      "metadata": {
        "id": "A9em3GL0dDVu"
      },
      "source": [
        "# Import Library"
      ]
    },
    {
      "cell_type": "code",
      "metadata": {
        "colab": {
          "base_uri": "https://localhost:8080/"
        },
        "id": "SGa2LAbmaLud",
        "outputId": "ef654594-b589-4584-d824-9bc8971a1747"
      },
      "source": [
        "import numpy as np\n",
        "import matplotlib.pyplot as plt\n",
        "import plotly.graph_objects as go\n",
        "import pandas as pd\n",
        "import re\n",
        "%matplotlib inline\n",
        "import seaborn as sns\n",
        "from google.colab import files\n",
        "from collections import defaultdict\n",
        "from wordcloud import WordCloud\n",
        "from sklearn.preprocessing import LabelEncoder\n",
        "from sklearn.feature_extraction.text import TfidfVectorizer\n",
        "from sklearn.metrics.pairwise import cosine_similarity\n",
        "from sklearn.model_selection import train_test_split\n",
        "from sklearn.preprocessing import StandardScaler, MinMaxScaler,RobustScaler\n",
        "import tensorflow as tf\n",
        "from tensorflow import keras\n",
        "from tensorflow.keras import Model\n",
        "from tensorflow.keras.layers import Input, Embedding, Reshape, Dot, Flatten, concatenate, Dense, Dropout\n",
        "from tensorflow.keras.optimizers import Adam\n",
        "from tensorflow.keras.callbacks import ModelCheckpoint\n",
        "from tensorflow.keras.utils import model_to_dot\n",
        "from IPython.display import SVG\n",
        "import warnings\n",
        "warnings.filterwarnings('ignore')\n",
        "\n",
        "print('tensorflow version:', tf.__version__)"
      ],
      "execution_count": null,
      "outputs": [
        {
          "output_type": "stream",
          "name": "stdout",
          "text": [
            "tensorflow version: 2.7.0\n"
          ]
        }
      ]
    },
    {
      "cell_type": "markdown",
      "metadata": {
        "id": "q8a24PU2dX0d"
      },
      "source": [
        "# Import Data"
      ]
    },
    {
      "cell_type": "code",
      "metadata": {
        "colab": {
          "resources": {
            "http://localhost:8080/nbextensions/google.colab/files.js": {
              "data": "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",
              "ok": true,
              "headers": [
                [
                  "content-type",
                  "application/javascript"
                ]
              ],
              "status": 200,
              "status_text": ""
            }
          },
          "base_uri": "https://localhost:8080/",
          "height": 90
        },
        "id": "cg36MlLGdVCQ",
        "outputId": "b2a77e63-fcad-4ff8-b068-b5ab387f7020"
      },
      "source": [
        "! pip install -q kaggle\n",
        "files.upload()"
      ],
      "execution_count": null,
      "outputs": [
        {
          "output_type": "display_data",
          "data": {
            "text/html": [
              "\n",
              "     <input type=\"file\" id=\"files-fd16a361-3b59-41cb-b6a4-a7cacc12e703\" name=\"files[]\" multiple disabled\n",
              "        style=\"border:none\" />\n",
              "     <output id=\"result-fd16a361-3b59-41cb-b6a4-a7cacc12e703\">\n",
              "      Upload widget is only available when the cell has been executed in the\n",
              "      current browser session. Please rerun this cell to enable.\n",
              "      </output>\n",
              "      <script src=\"/nbextensions/google.colab/files.js\"></script> "
            ],
            "text/plain": [
              "<IPython.core.display.HTML object>"
            ]
          },
          "metadata": {}
        },
        {
          "output_type": "stream",
          "name": "stdout",
          "text": [
            "Saving kaggle.json to kaggle.json\n"
          ]
        },
        {
          "output_type": "execute_result",
          "data": {
            "text/plain": [
              "{'kaggle.json': b'{\"username\":\"wiwekapremana\",\"key\":\"ced7b6390c8252c02cfd38cad8614014\"}'}"
            ]
          },
          "metadata": {},
          "execution_count": 2
        }
      ]
    },
    {
      "cell_type": "code",
      "metadata": {
        "colab": {
          "base_uri": "https://localhost:8080/"
        },
        "id": "jBcrSxYKdjsj",
        "outputId": "736c276f-3c42-4619-976c-1f84580cbf68"
      },
      "source": [
        "!mkdir -p ~/.kaggle\n",
        "!cp kaggle.json ~/.kaggle/\n",
        "!chmod 600 ~/.kaggle/kaggle.json\n",
        "!ls ~/.kaggle\n",
        "!kaggle datasets download -d CooperUnion/anime-recommendations-database\n",
        "!unzip /content/anime-recommendations-database.zip"
      ],
      "execution_count": null,
      "outputs": [
        {
          "output_type": "stream",
          "name": "stdout",
          "text": [
            "kaggle.json\n",
            "Downloading anime-recommendations-database.zip to /content\n",
            " 68% 17.0M/25.0M [00:00<00:00, 12.0MB/s]\n",
            "100% 25.0M/25.0M [00:01<00:00, 25.8MB/s]\n",
            "Archive:  /content/anime-recommendations-database.zip\n",
            "  inflating: anime.csv               \n",
            "  inflating: rating.csv              \n"
          ]
        }
      ]
    },
    {
      "cell_type": "markdown",
      "metadata": {
        "id": "6x-iey40d717"
      },
      "source": [
        "# Data Understanding\n",
        "\n",
        "Pada Proyek akhir ini saya menggunakan dataset yang saya temukan di kaggel, dimana pada proyek akhir ini saya menggunakan dataset [Anime Recommendations Database](https://www.kaggle.com/CooperUnion/anime-recommendations-database). Pada Dataset ini terdapat beberapa variable atau kolom yang dapat dilihat sebagai berikut: \n",
        "\n",
        "**Anime.csv**<br>\n",
        "* anime_id - sebuah unique id pada myanimelits.net untuk mengidentifikasi sebuah anime.\n",
        "* name - judul pada sebuah anime.\n",
        "* genre - daftar genre yang dipisahkan dengan koma.\n",
        "* type - movie, TV, OVA, etc.\n",
        "* episodes - episode yang tersedia pada anime tertentu. (1 eps jika bertipe movie).\n",
        "* rating - rata-rata rating yang diberikan.\n",
        "* members - jumlah anggota komunitas yang ada di anime ini\n",
        "\"group\".<br>\n",
        "\n",
        "**Rating.csv**<br>\n",
        "* user_id - user id yang dibuat secara acak dan tidak terdefinisi.\n",
        "* anime_id - anime yang telah di rating oleh pengguna.\n",
        "* rating - rating yang diberikan pengguna dari 10 (-1 apabila user hanya menontonnya saja tetapi tidak memberikan rating pada anime tersebut)."
      ]
    },
    {
      "cell_type": "code",
      "metadata": {
        "colab": {
          "base_uri": "https://localhost:8080/",
          "height": 423
        },
        "id": "K6_6B2fPeikc",
        "outputId": "ca2fc8bd-0aec-49ff-97c5-cefe8a2040a9"
      },
      "source": [
        "anime_data = pd.read_csv('/content/anime.csv')\n",
        "anime_data"
      ],
      "execution_count": null,
      "outputs": [
        {
          "output_type": "execute_result",
          "data": {
            "text/html": [
              "<div>\n",
              "<style scoped>\n",
              "    .dataframe tbody tr th:only-of-type {\n",
              "        vertical-align: middle;\n",
              "    }\n",
              "\n",
              "    .dataframe tbody tr th {\n",
              "        vertical-align: top;\n",
              "    }\n",
              "\n",
              "    .dataframe thead th {\n",
              "        text-align: right;\n",
              "    }\n",
              "</style>\n",
              "<table border=\"1\" class=\"dataframe\">\n",
              "  <thead>\n",
              "    <tr style=\"text-align: right;\">\n",
              "      <th></th>\n",
              "      <th>anime_id</th>\n",
              "      <th>name</th>\n",
              "      <th>genre</th>\n",
              "      <th>type</th>\n",
              "      <th>episodes</th>\n",
              "      <th>rating</th>\n",
              "      <th>members</th>\n",
              "    </tr>\n",
              "  </thead>\n",
              "  <tbody>\n",
              "    <tr>\n",
              "      <th>0</th>\n",
              "      <td>32281</td>\n",
              "      <td>Kimi no Na wa.</td>\n",
              "      <td>Drama, Romance, School, Supernatural</td>\n",
              "      <td>Movie</td>\n",
              "      <td>1</td>\n",
              "      <td>9.37</td>\n",
              "      <td>200630</td>\n",
              "    </tr>\n",
              "    <tr>\n",
              "      <th>1</th>\n",
              "      <td>5114</td>\n",
              "      <td>Fullmetal Alchemist: Brotherhood</td>\n",
              "      <td>Action, Adventure, Drama, Fantasy, Magic, Mili...</td>\n",
              "      <td>TV</td>\n",
              "      <td>64</td>\n",
              "      <td>9.26</td>\n",
              "      <td>793665</td>\n",
              "    </tr>\n",
              "    <tr>\n",
              "      <th>2</th>\n",
              "      <td>28977</td>\n",
              "      <td>Gintama°</td>\n",
              "      <td>Action, Comedy, Historical, Parody, Samurai, S...</td>\n",
              "      <td>TV</td>\n",
              "      <td>51</td>\n",
              "      <td>9.25</td>\n",
              "      <td>114262</td>\n",
              "    </tr>\n",
              "    <tr>\n",
              "      <th>3</th>\n",
              "      <td>9253</td>\n",
              "      <td>Steins;Gate</td>\n",
              "      <td>Sci-Fi, Thriller</td>\n",
              "      <td>TV</td>\n",
              "      <td>24</td>\n",
              "      <td>9.17</td>\n",
              "      <td>673572</td>\n",
              "    </tr>\n",
              "    <tr>\n",
              "      <th>4</th>\n",
              "      <td>9969</td>\n",
              "      <td>Gintama&amp;#039;</td>\n",
              "      <td>Action, Comedy, Historical, Parody, Samurai, S...</td>\n",
              "      <td>TV</td>\n",
              "      <td>51</td>\n",
              "      <td>9.16</td>\n",
              "      <td>151266</td>\n",
              "    </tr>\n",
              "    <tr>\n",
              "      <th>...</th>\n",
              "      <td>...</td>\n",
              "      <td>...</td>\n",
              "      <td>...</td>\n",
              "      <td>...</td>\n",
              "      <td>...</td>\n",
              "      <td>...</td>\n",
              "      <td>...</td>\n",
              "    </tr>\n",
              "    <tr>\n",
              "      <th>12289</th>\n",
              "      <td>9316</td>\n",
              "      <td>Toushindai My Lover: Minami tai Mecha-Minami</td>\n",
              "      <td>Hentai</td>\n",
              "      <td>OVA</td>\n",
              "      <td>1</td>\n",
              "      <td>4.15</td>\n",
              "      <td>211</td>\n",
              "    </tr>\n",
              "    <tr>\n",
              "      <th>12290</th>\n",
              "      <td>5543</td>\n",
              "      <td>Under World</td>\n",
              "      <td>Hentai</td>\n",
              "      <td>OVA</td>\n",
              "      <td>1</td>\n",
              "      <td>4.28</td>\n",
              "      <td>183</td>\n",
              "    </tr>\n",
              "    <tr>\n",
              "      <th>12291</th>\n",
              "      <td>5621</td>\n",
              "      <td>Violence Gekiga David no Hoshi</td>\n",
              "      <td>Hentai</td>\n",
              "      <td>OVA</td>\n",
              "      <td>4</td>\n",
              "      <td>4.88</td>\n",
              "      <td>219</td>\n",
              "    </tr>\n",
              "    <tr>\n",
              "      <th>12292</th>\n",
              "      <td>6133</td>\n",
              "      <td>Violence Gekiga Shin David no Hoshi: Inma Dens...</td>\n",
              "      <td>Hentai</td>\n",
              "      <td>OVA</td>\n",
              "      <td>1</td>\n",
              "      <td>4.98</td>\n",
              "      <td>175</td>\n",
              "    </tr>\n",
              "    <tr>\n",
              "      <th>12293</th>\n",
              "      <td>26081</td>\n",
              "      <td>Yasuji no Pornorama: Yacchimae!!</td>\n",
              "      <td>Hentai</td>\n",
              "      <td>Movie</td>\n",
              "      <td>1</td>\n",
              "      <td>5.46</td>\n",
              "      <td>142</td>\n",
              "    </tr>\n",
              "  </tbody>\n",
              "</table>\n",
              "<p>12294 rows × 7 columns</p>\n",
              "</div>"
            ],
            "text/plain": [
              "       anime_id  ... members\n",
              "0         32281  ...  200630\n",
              "1          5114  ...  793665\n",
              "2         28977  ...  114262\n",
              "3          9253  ...  673572\n",
              "4          9969  ...  151266\n",
              "...         ...  ...     ...\n",
              "12289      9316  ...     211\n",
              "12290      5543  ...     183\n",
              "12291      5621  ...     219\n",
              "12292      6133  ...     175\n",
              "12293     26081  ...     142\n",
              "\n",
              "[12294 rows x 7 columns]"
            ]
          },
          "metadata": {},
          "execution_count": 4
        }
      ]
    },
    {
      "cell_type": "code",
      "metadata": {
        "colab": {
          "base_uri": "https://localhost:8080/",
          "height": 423
        },
        "id": "TkbBCq-YiHFA",
        "outputId": "33001123-2c12-45c2-d44c-5b65b1a55923"
      },
      "source": [
        "rating_df = pd.read_csv('/content/rating.csv')\n",
        "rating_df"
      ],
      "execution_count": null,
      "outputs": [
        {
          "output_type": "execute_result",
          "data": {
            "text/html": [
              "<div>\n",
              "<style scoped>\n",
              "    .dataframe tbody tr th:only-of-type {\n",
              "        vertical-align: middle;\n",
              "    }\n",
              "\n",
              "    .dataframe tbody tr th {\n",
              "        vertical-align: top;\n",
              "    }\n",
              "\n",
              "    .dataframe thead th {\n",
              "        text-align: right;\n",
              "    }\n",
              "</style>\n",
              "<table border=\"1\" class=\"dataframe\">\n",
              "  <thead>\n",
              "    <tr style=\"text-align: right;\">\n",
              "      <th></th>\n",
              "      <th>user_id</th>\n",
              "      <th>anime_id</th>\n",
              "      <th>rating</th>\n",
              "    </tr>\n",
              "  </thead>\n",
              "  <tbody>\n",
              "    <tr>\n",
              "      <th>0</th>\n",
              "      <td>1</td>\n",
              "      <td>20</td>\n",
              "      <td>-1</td>\n",
              "    </tr>\n",
              "    <tr>\n",
              "      <th>1</th>\n",
              "      <td>1</td>\n",
              "      <td>24</td>\n",
              "      <td>-1</td>\n",
              "    </tr>\n",
              "    <tr>\n",
              "      <th>2</th>\n",
              "      <td>1</td>\n",
              "      <td>79</td>\n",
              "      <td>-1</td>\n",
              "    </tr>\n",
              "    <tr>\n",
              "      <th>3</th>\n",
              "      <td>1</td>\n",
              "      <td>226</td>\n",
              "      <td>-1</td>\n",
              "    </tr>\n",
              "    <tr>\n",
              "      <th>4</th>\n",
              "      <td>1</td>\n",
              "      <td>241</td>\n",
              "      <td>-1</td>\n",
              "    </tr>\n",
              "    <tr>\n",
              "      <th>...</th>\n",
              "      <td>...</td>\n",
              "      <td>...</td>\n",
              "      <td>...</td>\n",
              "    </tr>\n",
              "    <tr>\n",
              "      <th>7813732</th>\n",
              "      <td>73515</td>\n",
              "      <td>16512</td>\n",
              "      <td>7</td>\n",
              "    </tr>\n",
              "    <tr>\n",
              "      <th>7813733</th>\n",
              "      <td>73515</td>\n",
              "      <td>17187</td>\n",
              "      <td>9</td>\n",
              "    </tr>\n",
              "    <tr>\n",
              "      <th>7813734</th>\n",
              "      <td>73515</td>\n",
              "      <td>22145</td>\n",
              "      <td>10</td>\n",
              "    </tr>\n",
              "    <tr>\n",
              "      <th>7813735</th>\n",
              "      <td>73516</td>\n",
              "      <td>790</td>\n",
              "      <td>9</td>\n",
              "    </tr>\n",
              "    <tr>\n",
              "      <th>7813736</th>\n",
              "      <td>73516</td>\n",
              "      <td>8074</td>\n",
              "      <td>9</td>\n",
              "    </tr>\n",
              "  </tbody>\n",
              "</table>\n",
              "<p>7813737 rows × 3 columns</p>\n",
              "</div>"
            ],
            "text/plain": [
              "         user_id  anime_id  rating\n",
              "0              1        20      -1\n",
              "1              1        24      -1\n",
              "2              1        79      -1\n",
              "3              1       226      -1\n",
              "4              1       241      -1\n",
              "...          ...       ...     ...\n",
              "7813732    73515     16512       7\n",
              "7813733    73515     17187       9\n",
              "7813734    73515     22145      10\n",
              "7813735    73516       790       9\n",
              "7813736    73516      8074       9\n",
              "\n",
              "[7813737 rows x 3 columns]"
            ]
          },
          "metadata": {},
          "execution_count": 5
        }
      ]
    },
    {
      "cell_type": "code",
      "metadata": {
        "colab": {
          "base_uri": "https://localhost:8080/"
        },
        "id": "NyJp58E9ilRl",
        "outputId": "5687d143-42b2-4493-adfd-9930660da8d6"
      },
      "source": [
        "anime_data.info()"
      ],
      "execution_count": null,
      "outputs": [
        {
          "output_type": "stream",
          "name": "stdout",
          "text": [
            "<class 'pandas.core.frame.DataFrame'>\n",
            "RangeIndex: 12294 entries, 0 to 12293\n",
            "Data columns (total 7 columns):\n",
            " #   Column    Non-Null Count  Dtype  \n",
            "---  ------    --------------  -----  \n",
            " 0   anime_id  12294 non-null  int64  \n",
            " 1   name      12294 non-null  object \n",
            " 2   genre     12232 non-null  object \n",
            " 3   type      12269 non-null  object \n",
            " 4   episodes  12294 non-null  object \n",
            " 5   rating    12064 non-null  float64\n",
            " 6   members   12294 non-null  int64  \n",
            "dtypes: float64(1), int64(2), object(4)\n",
            "memory usage: 672.5+ KB\n"
          ]
        }
      ]
    },
    {
      "cell_type": "code",
      "metadata": {
        "colab": {
          "base_uri": "https://localhost:8080/"
        },
        "id": "mDXY-Yh-ipqK",
        "outputId": "3320053c-51b8-442f-b832-30bd0111c8ce"
      },
      "source": [
        "rating_df.info()"
      ],
      "execution_count": null,
      "outputs": [
        {
          "output_type": "stream",
          "name": "stdout",
          "text": [
            "<class 'pandas.core.frame.DataFrame'>\n",
            "RangeIndex: 7813737 entries, 0 to 7813736\n",
            "Data columns (total 3 columns):\n",
            " #   Column    Dtype\n",
            "---  ------    -----\n",
            " 0   user_id   int64\n",
            " 1   anime_id  int64\n",
            " 2   rating    int64\n",
            "dtypes: int64(3)\n",
            "memory usage: 178.8 MB\n"
          ]
        }
      ]
    },
    {
      "cell_type": "code",
      "metadata": {
        "colab": {
          "base_uri": "https://localhost:8080/",
          "height": 300
        },
        "id": "vm4MQ-yciz4j",
        "outputId": "beb80a05-4592-40f0-a9d9-89c48e98c66b"
      },
      "source": [
        "rating_df.describe()"
      ],
      "execution_count": null,
      "outputs": [
        {
          "output_type": "execute_result",
          "data": {
            "text/html": [
              "<div>\n",
              "<style scoped>\n",
              "    .dataframe tbody tr th:only-of-type {\n",
              "        vertical-align: middle;\n",
              "    }\n",
              "\n",
              "    .dataframe tbody tr th {\n",
              "        vertical-align: top;\n",
              "    }\n",
              "\n",
              "    .dataframe thead th {\n",
              "        text-align: right;\n",
              "    }\n",
              "</style>\n",
              "<table border=\"1\" class=\"dataframe\">\n",
              "  <thead>\n",
              "    <tr style=\"text-align: right;\">\n",
              "      <th></th>\n",
              "      <th>user_id</th>\n",
              "      <th>anime_id</th>\n",
              "      <th>rating</th>\n",
              "    </tr>\n",
              "  </thead>\n",
              "  <tbody>\n",
              "    <tr>\n",
              "      <th>count</th>\n",
              "      <td>7.813737e+06</td>\n",
              "      <td>7.813737e+06</td>\n",
              "      <td>7.813737e+06</td>\n",
              "    </tr>\n",
              "    <tr>\n",
              "      <th>mean</th>\n",
              "      <td>3.672796e+04</td>\n",
              "      <td>8.909072e+03</td>\n",
              "      <td>6.144030e+00</td>\n",
              "    </tr>\n",
              "    <tr>\n",
              "      <th>std</th>\n",
              "      <td>2.099795e+04</td>\n",
              "      <td>8.883950e+03</td>\n",
              "      <td>3.727800e+00</td>\n",
              "    </tr>\n",
              "    <tr>\n",
              "      <th>min</th>\n",
              "      <td>1.000000e+00</td>\n",
              "      <td>1.000000e+00</td>\n",
              "      <td>-1.000000e+00</td>\n",
              "    </tr>\n",
              "    <tr>\n",
              "      <th>25%</th>\n",
              "      <td>1.897400e+04</td>\n",
              "      <td>1.240000e+03</td>\n",
              "      <td>6.000000e+00</td>\n",
              "    </tr>\n",
              "    <tr>\n",
              "      <th>50%</th>\n",
              "      <td>3.679100e+04</td>\n",
              "      <td>6.213000e+03</td>\n",
              "      <td>7.000000e+00</td>\n",
              "    </tr>\n",
              "    <tr>\n",
              "      <th>75%</th>\n",
              "      <td>5.475700e+04</td>\n",
              "      <td>1.409300e+04</td>\n",
              "      <td>9.000000e+00</td>\n",
              "    </tr>\n",
              "    <tr>\n",
              "      <th>max</th>\n",
              "      <td>7.351600e+04</td>\n",
              "      <td>3.451900e+04</td>\n",
              "      <td>1.000000e+01</td>\n",
              "    </tr>\n",
              "  </tbody>\n",
              "</table>\n",
              "</div>"
            ],
            "text/plain": [
              "            user_id      anime_id        rating\n",
              "count  7.813737e+06  7.813737e+06  7.813737e+06\n",
              "mean   3.672796e+04  8.909072e+03  6.144030e+00\n",
              "std    2.099795e+04  8.883950e+03  3.727800e+00\n",
              "min    1.000000e+00  1.000000e+00 -1.000000e+00\n",
              "25%    1.897400e+04  1.240000e+03  6.000000e+00\n",
              "50%    3.679100e+04  6.213000e+03  7.000000e+00\n",
              "75%    5.475700e+04  1.409300e+04  9.000000e+00\n",
              "max    7.351600e+04  3.451900e+04  1.000000e+01"
            ]
          },
          "metadata": {},
          "execution_count": 8
        }
      ]
    },
    {
      "cell_type": "code",
      "metadata": {
        "colab": {
          "base_uri": "https://localhost:8080/"
        },
        "id": "mcanQj2NjLZL",
        "outputId": "efbd2f4b-5c3c-483b-af5c-ce7964f4f363"
      },
      "source": [
        "print(\"Jumlah total seluruh anime : {}\".format(len(anime_data.anime_id .unique())))\n",
        "print(\"Jumlah total seluruh rating : {}\".format(len(rating_df.user_id.unique())))"
      ],
      "execution_count": null,
      "outputs": [
        {
          "output_type": "stream",
          "name": "stdout",
          "text": [
            "Jumlah total seluruh anime : 12294\n",
            "Jumlah total seluruh rating : 73515\n"
          ]
        }
      ]
    },
    {
      "cell_type": "markdown",
      "metadata": {
        "id": "SYIZKMmbjcQp"
      },
      "source": [
        "## Membersihkan data yang kosong"
      ]
    },
    {
      "cell_type": "code",
      "metadata": {
        "colab": {
          "base_uri": "https://localhost:8080/"
        },
        "id": "n7K3ZDPPjhBK",
        "outputId": "bde5bbb6-d401-4863-81ac-05bc269b493d"
      },
      "source": [
        "null_features = anime_data.columns[anime_data.isna().any()]\n",
        "anime_data[null_features].isna().sum()"
      ],
      "execution_count": null,
      "outputs": [
        {
          "output_type": "execute_result",
          "data": {
            "text/plain": [
              "genre      62\n",
              "type       25\n",
              "rating    230\n",
              "dtype: int64"
            ]
          },
          "metadata": {},
          "execution_count": 10
        }
      ]
    },
    {
      "cell_type": "code",
      "metadata": {
        "colab": {
          "base_uri": "https://localhost:8080/"
        },
        "id": "IfoAJJoXjnca",
        "outputId": "664bb0c6-fb11-4ac1-a5ae-8722a1a4381b"
      },
      "source": [
        "anime_data.isnull().sum()/len(anime_data)*100"
      ],
      "execution_count": null,
      "outputs": [
        {
          "output_type": "execute_result",
          "data": {
            "text/plain": [
              "anime_id    0.000000\n",
              "name        0.000000\n",
              "genre       0.504311\n",
              "type        0.203351\n",
              "episodes    0.000000\n",
              "rating      1.870831\n",
              "members     0.000000\n",
              "dtype: float64"
            ]
          },
          "metadata": {},
          "execution_count": 11
        }
      ]
    },
    {
      "cell_type": "code",
      "metadata": {
        "id": "EiFvAaMUjr0q"
      },
      "source": [
        "anime_data.dropna(inplace=True)"
      ],
      "execution_count": null,
      "outputs": []
    },
    {
      "cell_type": "markdown",
      "metadata": {
        "id": "xyFGV3Sirz0w"
      },
      "source": [
        "# Visualisasi Data"
      ]
    },
    {
      "cell_type": "markdown",
      "metadata": {
        "id": "zTd2e9SlwmrZ"
      },
      "source": [
        "## Text Cleaning"
      ]
    },
    {
      "cell_type": "markdown",
      "metadata": {
        "id": "bt1_3Y6kvGio"
      },
      "source": [
        "langkah selanjutnya adalah melakukan text cleaning karena Pada data ini terdapat beberapa anime yang memiliki judul dengan menggunakan huruf jepang atau karakter khusus. "
      ]
    },
    {
      "cell_type": "code",
      "metadata": {
        "id": "M9A1dQmzwqqM"
      },
      "source": [
        "def text_cleaning(text):\n",
        "    text = re.sub(r'&quot;', '', text)\n",
        "    text = re.sub(r'.hack//', '', text)\n",
        "    text = re.sub(r'&#039;', '', text)\n",
        "    text = re.sub(r'A&#039;s', '', text)\n",
        "    text = re.sub(r'I&#039;', 'I\\'', text)\n",
        "    text = re.sub(r'&amp;', 'and', text)\n",
        "    \n",
        "    return text\n",
        "\n",
        "anime_data['name'] = anime_data['name'].apply(text_cleaning)"
      ],
      "execution_count": null,
      "outputs": []
    },
    {
      "cell_type": "markdown",
      "metadata": {
        "id": "oUpVeVFYxCwT"
      },
      "source": [
        "## Menampilkan Jumlah anime berdasarkan Media Streaming"
      ]
    },
    {
      "cell_type": "code",
      "metadata": {
        "colab": {
          "base_uri": "https://localhost:8080/",
          "height": 542
        },
        "id": "jMEjKDIcxDx_",
        "outputId": "9be45ca9-40c5-4e8c-afb8-c4b34dd7526c"
      },
      "source": [
        "labels = anime_data['type'].value_counts().index\n",
        "values = anime_data['type'].value_counts().values\n",
        "colors = ['red', 'blue', 'darkorange', 'green']\n",
        "fig = go.Figure(data=[go.Pie(labels=labels,\n",
        "                             values=values)])\n",
        "fig.update_traces(hoverinfo='label+percent', textinfo='value', textfont_size=20,\n",
        "                  marker=dict(colors=colors, line=dict(color='#000000', width=2)))\n",
        "\n",
        "fig.update_layout(\n",
        "    title={\n",
        "        'text': \"Type Media Streaming\",\n",
        "        'y':0.9,\n",
        "        'x':0.5,\n",
        "        'xanchor': 'center',\n",
        "        'yanchor': 'top'})\n",
        "\n",
        "fig.show()"
      ],
      "execution_count": null,
      "outputs": [
        {
          "output_type": "display_data",
          "data": {
            "text/html": [
              "<html>\n",
              "<head><meta charset=\"utf-8\" /></head>\n",
              "<body>\n",
              "    <div>\n",
              "            <script src=\"https://cdnjs.cloudflare.com/ajax/libs/mathjax/2.7.5/MathJax.js?config=TeX-AMS-MML_SVG\"></script><script type=\"text/javascript\">if (window.MathJax) {MathJax.Hub.Config({SVG: {font: \"STIX-Web\"}});}</script>\n",
              "                <script type=\"text/javascript\">window.PlotlyConfig = {MathJaxConfig: 'local'};</script>\n",
              "        <script src=\"https://cdn.plot.ly/plotly-latest.min.js\"></script>    \n",
              "            <div id=\"b9e81356-6ae3-49d4-94cf-350d557ea96d\" class=\"plotly-graph-div\" style=\"height:525px; width:100%;\"></div>\n",
              "            <script type=\"text/javascript\">\n",
              "                \n",
              "                    window.PLOTLYENV=window.PLOTLYENV || {};\n",
              "                    \n",
              "                if (document.getElementById(\"b9e81356-6ae3-49d4-94cf-350d557ea96d\")) {\n",
              "                    Plotly.newPlot(\n",
              "                        'b9e81356-6ae3-49d4-94cf-350d557ea96d',\n",
              "                        [{\"hoverinfo\": \"label+percent\", \"labels\": [\"TV\", \"OVA\", \"Movie\", \"Special\", \"ONA\", \"Music\"], \"marker\": {\"colors\": [\"red\", \"blue\", \"darkorange\", \"green\"], \"line\": {\"color\": \"#000000\", \"width\": 2}}, \"textfont\": {\"size\": 20}, \"textinfo\": \"value\", \"type\": \"pie\", \"values\": [3668, 3284, 2259, 1670, 648, 488]}],\n",
              "                        {\"template\": {\"data\": {\"bar\": [{\"error_x\": {\"color\": \"#2a3f5f\"}, \"error_y\": {\"color\": \"#2a3f5f\"}, \"marker\": {\"line\": {\"color\": \"#E5ECF6\", \"width\": 0.5}}, \"type\": \"bar\"}], \"barpolar\": [{\"marker\": {\"line\": {\"color\": \"#E5ECF6\", \"width\": 0.5}}, \"type\": \"barpolar\"}], \"carpet\": [{\"aaxis\": {\"endlinecolor\": \"#2a3f5f\", \"gridcolor\": \"white\", \"linecolor\": \"white\", \"minorgridcolor\": \"white\", \"startlinecolor\": \"#2a3f5f\"}, \"baxis\": {\"endlinecolor\": \"#2a3f5f\", \"gridcolor\": \"white\", \"linecolor\": \"white\", \"minorgridcolor\": \"white\", \"startlinecolor\": \"#2a3f5f\"}, \"type\": \"carpet\"}], \"choropleth\": [{\"colorbar\": {\"outlinewidth\": 0, \"ticks\": \"\"}, \"type\": \"choropleth\"}], \"contour\": [{\"colorbar\": {\"outlinewidth\": 0, \"ticks\": \"\"}, \"colorscale\": [[0.0, \"#0d0887\"], [0.1111111111111111, \"#46039f\"], [0.2222222222222222, \"#7201a8\"], [0.3333333333333333, \"#9c179e\"], [0.4444444444444444, \"#bd3786\"], [0.5555555555555556, \"#d8576b\"], [0.6666666666666666, \"#ed7953\"], [0.7777777777777778, \"#fb9f3a\"], [0.8888888888888888, \"#fdca26\"], [1.0, \"#f0f921\"]], \"type\": \"contour\"}], \"contourcarpet\": [{\"colorbar\": {\"outlinewidth\": 0, \"ticks\": \"\"}, \"type\": \"contourcarpet\"}], \"heatmap\": [{\"colorbar\": {\"outlinewidth\": 0, \"ticks\": \"\"}, \"colorscale\": [[0.0, \"#0d0887\"], [0.1111111111111111, \"#46039f\"], [0.2222222222222222, \"#7201a8\"], [0.3333333333333333, \"#9c179e\"], [0.4444444444444444, \"#bd3786\"], [0.5555555555555556, \"#d8576b\"], [0.6666666666666666, \"#ed7953\"], [0.7777777777777778, \"#fb9f3a\"], [0.8888888888888888, \"#fdca26\"], [1.0, \"#f0f921\"]], \"type\": \"heatmap\"}], \"heatmapgl\": [{\"colorbar\": {\"outlinewidth\": 0, \"ticks\": \"\"}, \"colorscale\": [[0.0, \"#0d0887\"], [0.1111111111111111, \"#46039f\"], [0.2222222222222222, \"#7201a8\"], [0.3333333333333333, \"#9c179e\"], [0.4444444444444444, \"#bd3786\"], [0.5555555555555556, \"#d8576b\"], [0.6666666666666666, \"#ed7953\"], [0.7777777777777778, \"#fb9f3a\"], [0.8888888888888888, \"#fdca26\"], [1.0, \"#f0f921\"]], \"type\": \"heatmapgl\"}], \"histogram\": [{\"marker\": {\"colorbar\": {\"outlinewidth\": 0, \"ticks\": \"\"}}, \"type\": \"histogram\"}], \"histogram2d\": [{\"colorbar\": {\"outlinewidth\": 0, \"ticks\": \"\"}, \"colorscale\": [[0.0, \"#0d0887\"], [0.1111111111111111, \"#46039f\"], [0.2222222222222222, \"#7201a8\"], [0.3333333333333333, \"#9c179e\"], [0.4444444444444444, \"#bd3786\"], [0.5555555555555556, \"#d8576b\"], [0.6666666666666666, \"#ed7953\"], [0.7777777777777778, \"#fb9f3a\"], [0.8888888888888888, \"#fdca26\"], [1.0, \"#f0f921\"]], \"type\": \"histogram2d\"}], \"histogram2dcontour\": [{\"colorbar\": {\"outlinewidth\": 0, \"ticks\": \"\"}, \"colorscale\": [[0.0, \"#0d0887\"], [0.1111111111111111, \"#46039f\"], [0.2222222222222222, \"#7201a8\"], [0.3333333333333333, \"#9c179e\"], [0.4444444444444444, \"#bd3786\"], [0.5555555555555556, \"#d8576b\"], [0.6666666666666666, \"#ed7953\"], [0.7777777777777778, \"#fb9f3a\"], [0.8888888888888888, \"#fdca26\"], [1.0, \"#f0f921\"]], \"type\": \"histogram2dcontour\"}], \"mesh3d\": [{\"colorbar\": {\"outlinewidth\": 0, \"ticks\": \"\"}, \"type\": \"mesh3d\"}], \"parcoords\": [{\"line\": {\"colorbar\": {\"outlinewidth\": 0, \"ticks\": \"\"}}, \"type\": \"parcoords\"}], \"pie\": [{\"automargin\": true, \"type\": \"pie\"}], \"scatter\": [{\"marker\": {\"colorbar\": {\"outlinewidth\": 0, \"ticks\": \"\"}}, \"type\": \"scatter\"}], \"scatter3d\": [{\"line\": {\"colorbar\": {\"outlinewidth\": 0, \"ticks\": \"\"}}, \"marker\": {\"colorbar\": {\"outlinewidth\": 0, \"ticks\": \"\"}}, \"type\": \"scatter3d\"}], \"scattercarpet\": [{\"marker\": {\"colorbar\": {\"outlinewidth\": 0, \"ticks\": \"\"}}, \"type\": \"scattercarpet\"}], \"scattergeo\": [{\"marker\": {\"colorbar\": {\"outlinewidth\": 0, \"ticks\": \"\"}}, \"type\": \"scattergeo\"}], \"scattergl\": [{\"marker\": {\"colorbar\": {\"outlinewidth\": 0, \"ticks\": \"\"}}, \"type\": \"scattergl\"}], \"scattermapbox\": [{\"marker\": {\"colorbar\": {\"outlinewidth\": 0, \"ticks\": \"\"}}, \"type\": \"scattermapbox\"}], \"scatterpolar\": [{\"marker\": {\"colorbar\": {\"outlinewidth\": 0, \"ticks\": \"\"}}, \"type\": \"scatterpolar\"}], \"scatterpolargl\": [{\"marker\": {\"colorbar\": {\"outlinewidth\": 0, \"ticks\": \"\"}}, \"type\": \"scatterpolargl\"}], \"scatterternary\": [{\"marker\": {\"colorbar\": {\"outlinewidth\": 0, \"ticks\": \"\"}}, \"type\": \"scatterternary\"}], \"surface\": [{\"colorbar\": {\"outlinewidth\": 0, \"ticks\": \"\"}, \"colorscale\": [[0.0, \"#0d0887\"], [0.1111111111111111, \"#46039f\"], [0.2222222222222222, \"#7201a8\"], [0.3333333333333333, \"#9c179e\"], [0.4444444444444444, \"#bd3786\"], [0.5555555555555556, \"#d8576b\"], [0.6666666666666666, \"#ed7953\"], [0.7777777777777778, \"#fb9f3a\"], [0.8888888888888888, \"#fdca26\"], [1.0, \"#f0f921\"]], \"type\": \"surface\"}], \"table\": [{\"cells\": {\"fill\": {\"color\": \"#EBF0F8\"}, \"line\": {\"color\": \"white\"}}, \"header\": {\"fill\": {\"color\": \"#C8D4E3\"}, \"line\": {\"color\": \"white\"}}, \"type\": \"table\"}]}, \"layout\": {\"annotationdefaults\": {\"arrowcolor\": \"#2a3f5f\", \"arrowhead\": 0, \"arrowwidth\": 1}, \"coloraxis\": {\"colorbar\": {\"outlinewidth\": 0, \"ticks\": \"\"}}, \"colorscale\": {\"diverging\": [[0, \"#8e0152\"], [0.1, \"#c51b7d\"], [0.2, \"#de77ae\"], [0.3, \"#f1b6da\"], [0.4, \"#fde0ef\"], [0.5, \"#f7f7f7\"], [0.6, \"#e6f5d0\"], [0.7, \"#b8e186\"], [0.8, \"#7fbc41\"], [0.9, \"#4d9221\"], [1, \"#276419\"]], \"sequential\": [[0.0, \"#0d0887\"], [0.1111111111111111, \"#46039f\"], [0.2222222222222222, \"#7201a8\"], [0.3333333333333333, \"#9c179e\"], [0.4444444444444444, \"#bd3786\"], [0.5555555555555556, \"#d8576b\"], [0.6666666666666666, \"#ed7953\"], [0.7777777777777778, \"#fb9f3a\"], [0.8888888888888888, \"#fdca26\"], [1.0, \"#f0f921\"]], \"sequentialminus\": [[0.0, \"#0d0887\"], [0.1111111111111111, \"#46039f\"], [0.2222222222222222, \"#7201a8\"], [0.3333333333333333, \"#9c179e\"], [0.4444444444444444, \"#bd3786\"], [0.5555555555555556, \"#d8576b\"], [0.6666666666666666, \"#ed7953\"], [0.7777777777777778, \"#fb9f3a\"], [0.8888888888888888, \"#fdca26\"], [1.0, \"#f0f921\"]]}, \"colorway\": [\"#636efa\", \"#EF553B\", \"#00cc96\", \"#ab63fa\", \"#FFA15A\", \"#19d3f3\", \"#FF6692\", \"#B6E880\", \"#FF97FF\", \"#FECB52\"], \"font\": {\"color\": \"#2a3f5f\"}, \"geo\": {\"bgcolor\": \"white\", \"lakecolor\": \"white\", \"landcolor\": \"#E5ECF6\", \"showlakes\": true, \"showland\": true, \"subunitcolor\": \"white\"}, \"hoverlabel\": {\"align\": \"left\"}, \"hovermode\": \"closest\", \"mapbox\": {\"style\": \"light\"}, \"paper_bgcolor\": \"white\", \"plot_bgcolor\": \"#E5ECF6\", \"polar\": {\"angularaxis\": {\"gridcolor\": \"white\", \"linecolor\": \"white\", \"ticks\": \"\"}, \"bgcolor\": \"#E5ECF6\", \"radialaxis\": {\"gridcolor\": \"white\", \"linecolor\": \"white\", \"ticks\": \"\"}}, \"scene\": {\"xaxis\": {\"backgroundcolor\": \"#E5ECF6\", \"gridcolor\": \"white\", \"gridwidth\": 2, \"linecolor\": \"white\", \"showbackground\": true, \"ticks\": \"\", \"zerolinecolor\": \"white\"}, \"yaxis\": {\"backgroundcolor\": \"#E5ECF6\", \"gridcolor\": \"white\", \"gridwidth\": 2, \"linecolor\": \"white\", \"showbackground\": true, \"ticks\": \"\", \"zerolinecolor\": \"white\"}, \"zaxis\": {\"backgroundcolor\": \"#E5ECF6\", \"gridcolor\": \"white\", \"gridwidth\": 2, \"linecolor\": \"white\", \"showbackground\": true, \"ticks\": \"\", \"zerolinecolor\": \"white\"}}, \"shapedefaults\": {\"line\": {\"color\": \"#2a3f5f\"}}, \"ternary\": {\"aaxis\": {\"gridcolor\": \"white\", \"linecolor\": \"white\", \"ticks\": \"\"}, \"baxis\": {\"gridcolor\": \"white\", \"linecolor\": \"white\", \"ticks\": \"\"}, \"bgcolor\": \"#E5ECF6\", \"caxis\": {\"gridcolor\": \"white\", \"linecolor\": \"white\", \"ticks\": \"\"}}, \"title\": {\"x\": 0.05}, \"xaxis\": {\"automargin\": true, \"gridcolor\": \"white\", \"linecolor\": \"white\", \"ticks\": \"\", \"title\": {\"standoff\": 15}, \"zerolinecolor\": \"white\", \"zerolinewidth\": 2}, \"yaxis\": {\"automargin\": true, \"gridcolor\": \"white\", \"linecolor\": \"white\", \"ticks\": \"\", \"title\": {\"standoff\": 15}, \"zerolinecolor\": \"white\", \"zerolinewidth\": 2}}}, \"title\": {\"text\": \"Type Media Streaming\", \"x\": 0.5, \"xanchor\": \"center\", \"y\": 0.9, \"yanchor\": \"top\"}},\n",
              "                        {\"responsive\": true}\n",
              "                    ).then(function(){\n",
              "                            \n",
              "var gd = document.getElementById('b9e81356-6ae3-49d4-94cf-350d557ea96d');\n",
              "var x = new MutationObserver(function (mutations, observer) {{\n",
              "        var display = window.getComputedStyle(gd).display;\n",
              "        if (!display || display === 'none') {{\n",
              "            console.log([gd, 'removed!']);\n",
              "            Plotly.purge(gd);\n",
              "            observer.disconnect();\n",
              "        }}\n",
              "}});\n",
              "\n",
              "// Listen for the removal of the full notebook cells\n",
              "var notebookContainer = gd.closest('#notebook-container');\n",
              "if (notebookContainer) {{\n",
              "    x.observe(notebookContainer, {childList: true});\n",
              "}}\n",
              "\n",
              "// Listen for the clearing of the current output cell\n",
              "var outputEl = gd.closest('.output');\n",
              "if (outputEl) {{\n",
              "    x.observe(outputEl, {childList: true});\n",
              "}}\n",
              "\n",
              "                        })\n",
              "                };\n",
              "                \n",
              "            </script>\n",
              "        </div>\n",
              "</body>\n",
              "</html>"
            ]
          },
          "metadata": {}
        }
      ]
    },
    {
      "cell_type": "markdown",
      "metadata": {
        "id": "UPx-X_SsBS2I"
      },
      "source": [
        "Pada diagram diatas dapat disimpulkan bahwa tipe media streaming yang paling banyak adalah media streaming 'TV' dengan total keseluruhan sebanyak 3668"
      ]
    },
    {
      "cell_type": "markdown",
      "metadata": {
        "id": "_Xig8Jy-BqMs"
      },
      "source": [
        "## Menampilkan data genre pada dataset"
      ]
    },
    {
      "cell_type": "code",
      "metadata": {
        "id": "lZ5vfYumBhHE"
      },
      "source": [
        "all_genre = defaultdict(int)\n",
        "\n",
        "for genre in anime_data['genre']:\n",
        "    for genre in genre.split(','):\n",
        "        all_genre[genre.strip()] += 1"
      ],
      "execution_count": null,
      "outputs": []
    },
    {
      "cell_type": "code",
      "metadata": {
        "colab": {
          "base_uri": "https://localhost:8080/",
          "height": 215
        },
        "id": "FD9hWxIoCHBX",
        "outputId": "a6a4af15-ecd8-4f65-c529-6bf96218fbdb"
      },
      "source": [
        "nonull_anime=anime_data.copy()\n",
        "nonull_anime.dropna(inplace=True)\n",
        "\n",
        "all_genres = defaultdict(int)\n",
        "\n",
        "for genres in nonull_anime['genre']:\n",
        "    for genre in genres.split(','):\n",
        "        all_genres[genre.strip()] += 1\n",
        "        \n",
        "genres_cloud = WordCloud(width=800, height=400, background_color='white', colormap='gnuplot').generate_from_frequencies(all_genres)\n",
        "plt.imshow(genres_cloud, interpolation='bilinear')\n",
        "plt.axis('off')"
      ],
      "execution_count": null,
      "outputs": [
        {
          "output_type": "execute_result",
          "data": {
            "text/plain": [
              "(-0.5, 799.5, 399.5, -0.5)"
            ]
          },
          "metadata": {},
          "execution_count": 16
        },
        {
          "output_type": "display_data",
          "data": {
            "image/png": "[encoded data removed]",
            "text/plain": [
              "<Figure size 432x288 with 1 Axes>"
            ]
          },
          "metadata": {
            "needs_background": "light"
          }
        }
      ]
    },
    {
      "cell_type": "markdown",
      "metadata": {
        "id": "fdF35jMhC40U"
      },
      "source": [
        "Pada gambar diatas dapat dilihat bahwa anime yang memiliki genre 'Comedy' dan 'Action' merupakan anime yang paling banyak atau paling sering muncul"
      ]
    },
    {
      "cell_type": "markdown",
      "metadata": {
        "id": "OR0O-tCeDQ0R"
      },
      "source": [
        "## Menampilkan Anime dengan rating tertinggi berdasarkan type"
      ]
    },
    {
      "cell_type": "code",
      "metadata": {
        "colab": {
          "base_uri": "https://localhost:8080/",
          "height": 362
        },
        "id": "PlZkIeRlDU_C",
        "outputId": "fd572a35-ee2b-4e58-b11f-5065a50034a6"
      },
      "source": [
        "anime_data[['name', 'rating', 'type', 'members']].sort_values(by='rating', ascending=False).query('members>500000')[:10]"
      ],
      "execution_count": null,
      "outputs": [
        {
          "output_type": "execute_result",
          "data": {
            "text/html": [
              "<div>\n",
              "<style scoped>\n",
              "    .dataframe tbody tr th:only-of-type {\n",
              "        vertical-align: middle;\n",
              "    }\n",
              "\n",
              "    .dataframe tbody tr th {\n",
              "        vertical-align: top;\n",
              "    }\n",
              "\n",
              "    .dataframe thead th {\n",
              "        text-align: right;\n",
              "    }\n",
              "</style>\n",
              "<table border=\"1\" class=\"dataframe\">\n",
              "  <thead>\n",
              "    <tr style=\"text-align: right;\">\n",
              "      <th></th>\n",
              "      <th>name</th>\n",
              "      <th>rating</th>\n",
              "      <th>type</th>\n",
              "      <th>members</th>\n",
              "    </tr>\n",
              "  </thead>\n",
              "  <tbody>\n",
              "    <tr>\n",
              "      <th>1</th>\n",
              "      <td>Fullmetal Alchemist: Brotherhood</td>\n",
              "      <td>9.26</td>\n",
              "      <td>TV</td>\n",
              "      <td>793665</td>\n",
              "    </tr>\n",
              "    <tr>\n",
              "      <th>3</th>\n",
              "      <td>Steins;Gate</td>\n",
              "      <td>9.17</td>\n",
              "      <td>TV</td>\n",
              "      <td>673572</td>\n",
              "    </tr>\n",
              "    <tr>\n",
              "      <th>13</th>\n",
              "      <td>Code Geass: Hangyaku no Lelouch R2</td>\n",
              "      <td>8.98</td>\n",
              "      <td>TV</td>\n",
              "      <td>572888</td>\n",
              "    </tr>\n",
              "    <tr>\n",
              "      <th>19</th>\n",
              "      <td>Code Geass: Hangyaku no Lelouch</td>\n",
              "      <td>8.83</td>\n",
              "      <td>TV</td>\n",
              "      <td>715151</td>\n",
              "    </tr>\n",
              "    <tr>\n",
              "      <th>23</th>\n",
              "      <td>One Punch Man</td>\n",
              "      <td>8.82</td>\n",
              "      <td>TV</td>\n",
              "      <td>552458</td>\n",
              "    </tr>\n",
              "    <tr>\n",
              "      <th>29</th>\n",
              "      <td>Tengen Toppa Gurren Lagann</td>\n",
              "      <td>8.78</td>\n",
              "      <td>TV</td>\n",
              "      <td>562962</td>\n",
              "    </tr>\n",
              "    <tr>\n",
              "      <th>40</th>\n",
              "      <td>Death Note</td>\n",
              "      <td>8.71</td>\n",
              "      <td>TV</td>\n",
              "      <td>1013917</td>\n",
              "    </tr>\n",
              "    <tr>\n",
              "      <th>74</th>\n",
              "      <td>One Piece</td>\n",
              "      <td>8.58</td>\n",
              "      <td>TV</td>\n",
              "      <td>504862</td>\n",
              "    </tr>\n",
              "    <tr>\n",
              "      <th>86</th>\n",
              "      <td>Shingeki no Kyojin</td>\n",
              "      <td>8.54</td>\n",
              "      <td>TV</td>\n",
              "      <td>896229</td>\n",
              "    </tr>\n",
              "    <tr>\n",
              "      <th>98</th>\n",
              "      <td>Psycho-Pass</td>\n",
              "      <td>8.50</td>\n",
              "      <td>TV</td>\n",
              "      <td>509109</td>\n",
              "    </tr>\n",
              "  </tbody>\n",
              "</table>\n",
              "</div>"
            ],
            "text/plain": [
              "                                  name  rating type  members\n",
              "1     Fullmetal Alchemist: Brotherhood    9.26   TV   793665\n",
              "3                          Steins;Gate    9.17   TV   673572\n",
              "13  Code Geass: Hangyaku no Lelouch R2    8.98   TV   572888\n",
              "19     Code Geass: Hangyaku no Lelouch    8.83   TV   715151\n",
              "23                       One Punch Man    8.82   TV   552458\n",
              "29          Tengen Toppa Gurren Lagann    8.78   TV   562962\n",
              "40                          Death Note    8.71   TV  1013917\n",
              "74                           One Piece    8.58   TV   504862\n",
              "86                  Shingeki no Kyojin    8.54   TV   896229\n",
              "98                         Psycho-Pass    8.50   TV   509109"
            ]
          },
          "metadata": {},
          "execution_count": 17
        }
      ]
    },
    {
      "cell_type": "markdown",
      "metadata": {
        "id": "eEhtQr0cD0Vh"
      },
      "source": [
        "Pada data diatas saya menampilkan 10 data anime yang memiliki rating tertinggi dan kebetulan tipe media streaming 'TV'merupaka type dengan rating tertinggi dan member komunitas diatas 500000  "
      ]
    },
    {
      "cell_type": "code",
      "metadata": {
        "colab": {
          "base_uri": "https://localhost:8080/",
          "height": 362
        },
        "id": "5YIWzACsFNB0",
        "outputId": "40ec0c2f-e606-4042-a92d-f5cd3908f78f"
      },
      "source": [
        "anime_data[anime_data['type'] == 'OVA'][['name', 'rating', 'type', 'members']].sort_values(by='rating', ascending=False).query('members>100000')[:10]"
      ],
      "execution_count": null,
      "outputs": [
        {
          "output_type": "execute_result",
          "data": {
            "text/html": [
              "<div>\n",
              "<style scoped>\n",
              "    .dataframe tbody tr th:only-of-type {\n",
              "        vertical-align: middle;\n",
              "    }\n",
              "\n",
              "    .dataframe tbody tr th {\n",
              "        vertical-align: top;\n",
              "    }\n",
              "\n",
              "    .dataframe thead th {\n",
              "        text-align: right;\n",
              "    }\n",
              "</style>\n",
              "<table border=\"1\" class=\"dataframe\">\n",
              "  <thead>\n",
              "    <tr style=\"text-align: right;\">\n",
              "      <th></th>\n",
              "      <th>name</th>\n",
              "      <th>rating</th>\n",
              "      <th>type</th>\n",
              "      <th>members</th>\n",
              "    </tr>\n",
              "  </thead>\n",
              "  <tbody>\n",
              "    <tr>\n",
              "      <th>21</th>\n",
              "      <td>Rurouni Kenshin: Meiji Kenkaku Romantan - Tsui...</td>\n",
              "      <td>8.83</td>\n",
              "      <td>OVA</td>\n",
              "      <td>129307</td>\n",
              "    </tr>\n",
              "    <tr>\n",
              "      <th>66</th>\n",
              "      <td>Hellsing Ultimate</td>\n",
              "      <td>8.59</td>\n",
              "      <td>OVA</td>\n",
              "      <td>297454</td>\n",
              "    </tr>\n",
              "    <tr>\n",
              "      <th>245</th>\n",
              "      <td>Detroit Metal City</td>\n",
              "      <td>8.26</td>\n",
              "      <td>OVA</td>\n",
              "      <td>104893</td>\n",
              "    </tr>\n",
              "    <tr>\n",
              "      <th>359</th>\n",
              "      <td>Black Lagoon: Robertas Blood Trail</td>\n",
              "      <td>8.15</td>\n",
              "      <td>OVA</td>\n",
              "      <td>108099</td>\n",
              "    </tr>\n",
              "    <tr>\n",
              "      <th>456</th>\n",
              "      <td>FLCL</td>\n",
              "      <td>8.06</td>\n",
              "      <td>OVA</td>\n",
              "      <td>305165</td>\n",
              "    </tr>\n",
              "    <tr>\n",
              "      <th>468</th>\n",
              "      <td>Golden Boy</td>\n",
              "      <td>8.05</td>\n",
              "      <td>OVA</td>\n",
              "      <td>113040</td>\n",
              "    </tr>\n",
              "    <tr>\n",
              "      <th>698</th>\n",
              "      <td>Noragami OVA</td>\n",
              "      <td>7.89</td>\n",
              "      <td>OVA</td>\n",
              "      <td>104775</td>\n",
              "    </tr>\n",
              "    <tr>\n",
              "      <th>717</th>\n",
              "      <td>Shingeki no Kyojin OVA</td>\n",
              "      <td>7.88</td>\n",
              "      <td>OVA</td>\n",
              "      <td>121063</td>\n",
              "    </tr>\n",
              "    <tr>\n",
              "      <th>1039</th>\n",
              "      <td>Mirai Nikki Redial</td>\n",
              "      <td>7.71</td>\n",
              "      <td>OVA</td>\n",
              "      <td>135604</td>\n",
              "    </tr>\n",
              "    <tr>\n",
              "      <th>1536</th>\n",
              "      <td>Mirai Nikki</td>\n",
              "      <td>7.51</td>\n",
              "      <td>OVA</td>\n",
              "      <td>114217</td>\n",
              "    </tr>\n",
              "  </tbody>\n",
              "</table>\n",
              "</div>"
            ],
            "text/plain": [
              "                                                   name  rating type  members\n",
              "21    Rurouni Kenshin: Meiji Kenkaku Romantan - Tsui...    8.83  OVA   129307\n",
              "66                                    Hellsing Ultimate    8.59  OVA   297454\n",
              "245                                  Detroit Metal City    8.26  OVA   104893\n",
              "359                  Black Lagoon: Robertas Blood Trail    8.15  OVA   108099\n",
              "456                                                FLCL    8.06  OVA   305165\n",
              "468                                          Golden Boy    8.05  OVA   113040\n",
              "698                                        Noragami OVA    7.89  OVA   104775\n",
              "717                              Shingeki no Kyojin OVA    7.88  OVA   121063\n",
              "1039                                 Mirai Nikki Redial    7.71  OVA   135604\n",
              "1536                                        Mirai Nikki    7.51  OVA   114217"
            ]
          },
          "metadata": {},
          "execution_count": 18
        }
      ]
    },
    {
      "cell_type": "markdown",
      "metadata": {
        "id": "1raBbPU8GYCi"
      },
      "source": [
        "Pada data diatas saya menampilkan 10 data anime yang memiliki tipe media streaming 'OVA' dengan rating tertinggi dan member atau anggota komunitas diatas 100000  "
      ]
    },
    {
      "cell_type": "code",
      "metadata": {
        "colab": {
          "base_uri": "https://localhost:8080/",
          "height": 362
        },
        "id": "GcJ4xSOrE64I",
        "outputId": "88e90e1a-8ff7-4451-be64-6b224488863f"
      },
      "source": [
        "anime_data[anime_data['type'] == 'Movie'][['name', 'rating', 'type', 'members']].sort_values(by='rating', ascending=False).query('members>200000')[:10]"
      ],
      "execution_count": null,
      "outputs": [
        {
          "output_type": "execute_result",
          "data": {
            "text/html": [
              "<div>\n",
              "<style scoped>\n",
              "    .dataframe tbody tr th:only-of-type {\n",
              "        vertical-align: middle;\n",
              "    }\n",
              "\n",
              "    .dataframe tbody tr th {\n",
              "        vertical-align: top;\n",
              "    }\n",
              "\n",
              "    .dataframe thead th {\n",
              "        text-align: right;\n",
              "    }\n",
              "</style>\n",
              "<table border=\"1\" class=\"dataframe\">\n",
              "  <thead>\n",
              "    <tr style=\"text-align: right;\">\n",
              "      <th></th>\n",
              "      <th>name</th>\n",
              "      <th>rating</th>\n",
              "      <th>type</th>\n",
              "      <th>members</th>\n",
              "    </tr>\n",
              "  </thead>\n",
              "  <tbody>\n",
              "    <tr>\n",
              "      <th>0</th>\n",
              "      <td>Kimi no Na wa.</td>\n",
              "      <td>9.37</td>\n",
              "      <td>Movie</td>\n",
              "      <td>200630</td>\n",
              "    </tr>\n",
              "    <tr>\n",
              "      <th>15</th>\n",
              "      <td>Sen to Chihiro no Kamikakushi</td>\n",
              "      <td>8.93</td>\n",
              "      <td>Movie</td>\n",
              "      <td>466254</td>\n",
              "    </tr>\n",
              "    <tr>\n",
              "      <th>18</th>\n",
              "      <td>Ookami Kodomo no Ame to Yuki</td>\n",
              "      <td>8.84</td>\n",
              "      <td>Movie</td>\n",
              "      <td>226193</td>\n",
              "    </tr>\n",
              "    <tr>\n",
              "      <th>25</th>\n",
              "      <td>Suzumiya Haruhi no Shoushitsu</td>\n",
              "      <td>8.81</td>\n",
              "      <td>Movie</td>\n",
              "      <td>240297</td>\n",
              "    </tr>\n",
              "    <tr>\n",
              "      <th>24</th>\n",
              "      <td>Mononoke Hime</td>\n",
              "      <td>8.81</td>\n",
              "      <td>Movie</td>\n",
              "      <td>339556</td>\n",
              "    </tr>\n",
              "    <tr>\n",
              "      <th>35</th>\n",
              "      <td>Howl no Ugoku Shiro</td>\n",
              "      <td>8.74</td>\n",
              "      <td>Movie</td>\n",
              "      <td>333186</td>\n",
              "    </tr>\n",
              "    <tr>\n",
              "      <th>115</th>\n",
              "      <td>Tonari no Totoro</td>\n",
              "      <td>8.48</td>\n",
              "      <td>Movie</td>\n",
              "      <td>271484</td>\n",
              "    </tr>\n",
              "    <tr>\n",
              "      <th>130</th>\n",
              "      <td>Neon Genesis Evangelion: The End of Evangelion</td>\n",
              "      <td>8.45</td>\n",
              "      <td>Movie</td>\n",
              "      <td>215630</td>\n",
              "    </tr>\n",
              "    <tr>\n",
              "      <th>132</th>\n",
              "      <td>Toki wo Kakeru Shoujo</td>\n",
              "      <td>8.44</td>\n",
              "      <td>Movie</td>\n",
              "      <td>289206</td>\n",
              "    </tr>\n",
              "    <tr>\n",
              "      <th>191</th>\n",
              "      <td>Ghost in the Shell</td>\n",
              "      <td>8.34</td>\n",
              "      <td>Movie</td>\n",
              "      <td>223036</td>\n",
              "    </tr>\n",
              "  </tbody>\n",
              "</table>\n",
              "</div>"
            ],
            "text/plain": [
              "                                               name  rating   type  members\n",
              "0                                    Kimi no Na wa.    9.37  Movie   200630\n",
              "15                    Sen to Chihiro no Kamikakushi    8.93  Movie   466254\n",
              "18                     Ookami Kodomo no Ame to Yuki    8.84  Movie   226193\n",
              "25                    Suzumiya Haruhi no Shoushitsu    8.81  Movie   240297\n",
              "24                                    Mononoke Hime    8.81  Movie   339556\n",
              "35                              Howl no Ugoku Shiro    8.74  Movie   333186\n",
              "115                                Tonari no Totoro    8.48  Movie   271484\n",
              "130  Neon Genesis Evangelion: The End of Evangelion    8.45  Movie   215630\n",
              "132                           Toki wo Kakeru Shoujo    8.44  Movie   289206\n",
              "191                              Ghost in the Shell    8.34  Movie   223036"
            ]
          },
          "metadata": {},
          "execution_count": 19
        }
      ]
    },
    {
      "cell_type": "markdown",
      "metadata": {
        "id": "xYtH0Sw4FLpG"
      },
      "source": [
        "Pada data diatas saya menampilkan 10 data anime yang memiliki tipe media streaming 'Movie' dengan rating tertinggi dan member atau anggota komunitas diatas 200000  "
      ]
    },
    {
      "cell_type": "markdown",
      "metadata": {
        "id": "ucHiplavHJDA"
      },
      "source": [
        "# Modeling and Result"
      ]
    },
    {
      "cell_type": "markdown",
      "metadata": {
        "id": "g6J5AaiBubZy"
      },
      "source": [
        "## Modelling menggunakan Content-Based Recommendation-System\n",
        "Pada kasus ini saya melakukan Content-Based Recommendation-System berdasarkan genre dari anime yang terdapat dalam dataset, dengan tahapan sebagai berikut:\n",
        "1. melakukan pembuatan matrix genre\n",
        "2. melakukan peembuatan cosine similarity dengan menggunakan matrix genre\n",
        "3. 10 anime paling mirip berdasarkan skor cosine similarity akan dikembalikan dengan fungsi yang akan dibuat.\n",
        "4. Dan yang terakhir melakukan uji pada fungsi dengan menuliskan judul anime dan cosine similarity yang digunakan."
      ]
    },
    {
      "cell_type": "code",
      "metadata": {
        "colab": {
          "base_uri": "https://localhost:8080/"
        },
        "id": "cyPemd_9xkhE",
        "outputId": "93c806be-1bb9-4963-a639-a1f6eff5dc3c"
      },
      "source": [
        "genre_str = anime_data['genre'].str.split(',').astype(str)\n",
        "\n",
        "tfidf = TfidfVectorizer(analyzer='word', ngram_range=(1, 4), min_df=0)\n",
        "tfidf_matrix = tfidf.fit_transform(genre_str)\n",
        "\n",
        "tfidf_matrix.shape"
      ],
      "execution_count": null,
      "outputs": [
        {
          "output_type": "execute_result",
          "data": {
            "text/plain": [
              "(12017, 5569)"
            ]
          },
          "metadata": {},
          "execution_count": 20
        }
      ]
    },
    {
      "cell_type": "code",
      "metadata": {
        "colab": {
          "base_uri": "https://localhost:8080/"
        },
        "id": "xMliQ6-ExrJ0",
        "outputId": "52e3ba2d-85f3-4c44-b652-1612a1b8908b"
      },
      "source": [
        "cosine_sim_genre = cosine_similarity(tfidf_matrix, tfidf_matrix)\n",
        "cosine_sim_genre[:4, :4]"
      ],
      "execution_count": null,
      "outputs": [
        {
          "output_type": "execute_result",
          "data": {
            "text/plain": [
              "array([[1.        , 0.01608551, 0.        , 0.        ],\n",
              "       [0.01608551, 1.        , 0.01685446, 0.        ],\n",
              "       [0.        , 0.01685446, 1.        , 0.05595377],\n",
              "       [0.        , 0.        , 0.05595377, 1.        ]])"
            ]
          },
          "metadata": {},
          "execution_count": 21
        }
      ]
    },
    {
      "cell_type": "code",
      "metadata": {
        "id": "eWLW836D_w1h"
      },
      "source": [
        "indices = pd.Series(anime_data.index, index=anime_data['name'])\n",
        "\n",
        "def genre_recommendations(name, cosine_sim):\n",
        "    \n",
        "            idx = indices[name]\n",
        "            sim_scores = (enumerate(cosine_sim[idx]))\n",
        "            sim_scores = sorted(sim_scores, key=lambda x: x[1], reverse=True)\n",
        "            sim_scores = sim_scores[0:11]\n",
        "        \n",
        "            anime_indices = [i[0] for i in sim_scores]\n",
        "            similarity_ = [i[1] for i in sim_scores] \n",
        "        \n",
        "            return pd.DataFrame({'Anime name': anime_data['name'].iloc[anime_indices].values,\n",
        "                                 'Similarity': similarity_,\n",
        "                                 'Type': anime_data['type'].iloc[anime_indices].values,\n",
        "                                 'rating' : anime_data['rating'].iloc[anime_indices].values,\n",
        "                                 'genre': anime_data['genre'].iloc[anime_indices].values})"
      ],
      "execution_count": null,
      "outputs": []
    },
    {
      "cell_type": "code",
      "metadata": {
        "colab": {
          "base_uri": "https://localhost:8080/",
          "height": 81
        },
        "id": "AhrbRdG0XGx6",
        "outputId": "6d246266-f358-4ccc-daf7-53202015c949"
      },
      "source": [
        "anime_data[anime_data.name.eq('One Punch Man')]"
      ],
      "execution_count": null,
      "outputs": [
        {
          "output_type": "execute_result",
          "data": {
            "text/html": [
              "<div>\n",
              "<style scoped>\n",
              "    .dataframe tbody tr th:only-of-type {\n",
              "        vertical-align: middle;\n",
              "    }\n",
              "\n",
              "    .dataframe tbody tr th {\n",
              "        vertical-align: top;\n",
              "    }\n",
              "\n",
              "    .dataframe thead th {\n",
              "        text-align: right;\n",
              "    }\n",
              "</style>\n",
              "<table border=\"1\" class=\"dataframe\">\n",
              "  <thead>\n",
              "    <tr style=\"text-align: right;\">\n",
              "      <th></th>\n",
              "      <th>anime_id</th>\n",
              "      <th>name</th>\n",
              "      <th>genre</th>\n",
              "      <th>type</th>\n",
              "      <th>episodes</th>\n",
              "      <th>rating</th>\n",
              "      <th>members</th>\n",
              "    </tr>\n",
              "  </thead>\n",
              "  <tbody>\n",
              "    <tr>\n",
              "      <th>23</th>\n",
              "      <td>30276</td>\n",
              "      <td>One Punch Man</td>\n",
              "      <td>Action, Comedy, Parody, Sci-Fi, Seinen, Super ...</td>\n",
              "      <td>TV</td>\n",
              "      <td>12</td>\n",
              "      <td>8.82</td>\n",
              "      <td>552458</td>\n",
              "    </tr>\n",
              "  </tbody>\n",
              "</table>\n",
              "</div>"
            ],
            "text/plain": [
              "    anime_id           name  ... rating members\n",
              "23     30276  One Punch Man  ...   8.82  552458\n",
              "\n",
              "[1 rows x 7 columns]"
            ]
          },
          "metadata": {},
          "execution_count": 23
        }
      ]
    },
    {
      "cell_type": "code",
      "metadata": {
        "colab": {
          "base_uri": "https://localhost:8080/",
          "height": 395
        },
        "id": "cq2wSz_3Xg6G",
        "outputId": "eb336fdb-f867-43a7-e442-ff24cddf9953"
      },
      "source": [
        "genre_recommendations('One Punch Man', cosine_sim_genre)"
      ],
      "execution_count": null,
      "outputs": [
        {
          "output_type": "execute_result",
          "data": {
            "text/html": [
              "<div>\n",
              "<style scoped>\n",
              "    .dataframe tbody tr th:only-of-type {\n",
              "        vertical-align: middle;\n",
              "    }\n",
              "\n",
              "    .dataframe tbody tr th {\n",
              "        vertical-align: top;\n",
              "    }\n",
              "\n",
              "    .dataframe thead th {\n",
              "        text-align: right;\n",
              "    }\n",
              "</style>\n",
              "<table border=\"1\" class=\"dataframe\">\n",
              "  <thead>\n",
              "    <tr style=\"text-align: right;\">\n",
              "      <th></th>\n",
              "      <th>Anime name</th>\n",
              "      <th>Similarity</th>\n",
              "      <th>Type</th>\n",
              "      <th>rating</th>\n",
              "      <th>genre</th>\n",
              "    </tr>\n",
              "  </thead>\n",
              "  <tbody>\n",
              "    <tr>\n",
              "      <th>0</th>\n",
              "      <td>One Punch Man</td>\n",
              "      <td>1.000000</td>\n",
              "      <td>TV</td>\n",
              "      <td>8.82</td>\n",
              "      <td>Action, Comedy, Parody, Sci-Fi, Seinen, Super ...</td>\n",
              "    </tr>\n",
              "    <tr>\n",
              "      <th>1</th>\n",
              "      <td>One Punch Man Specials</td>\n",
              "      <td>1.000000</td>\n",
              "      <td>Special</td>\n",
              "      <td>7.86</td>\n",
              "      <td>Action, Comedy, Parody, Sci-Fi, Seinen, Super ...</td>\n",
              "    </tr>\n",
              "    <tr>\n",
              "      <th>2</th>\n",
              "      <td>One Punch Man: Road to Hero</td>\n",
              "      <td>1.000000</td>\n",
              "      <td>OVA</td>\n",
              "      <td>7.85</td>\n",
              "      <td>Action, Comedy, Parody, Sci-Fi, Seinen, Super ...</td>\n",
              "    </tr>\n",
              "    <tr>\n",
              "      <th>3</th>\n",
              "      <td>Genji Tsuushin Agedama</td>\n",
              "      <td>0.604524</td>\n",
              "      <td>TV</td>\n",
              "      <td>6.58</td>\n",
              "      <td>Action, Comedy, Parody, Sci-Fi</td>\n",
              "    </tr>\n",
              "    <tr>\n",
              "      <th>4</th>\n",
              "      <td>Oh! Super Milk-chan</td>\n",
              "      <td>0.604524</td>\n",
              "      <td>TV</td>\n",
              "      <td>6.07</td>\n",
              "      <td>Action, Comedy, Parody, Sci-Fi</td>\n",
              "    </tr>\n",
              "    <tr>\n",
              "      <th>5</th>\n",
              "      <td>Super Milk-chan</td>\n",
              "      <td>0.604524</td>\n",
              "      <td>TV</td>\n",
              "      <td>5.88</td>\n",
              "      <td>Action, Comedy, Parody, Sci-Fi</td>\n",
              "    </tr>\n",
              "    <tr>\n",
              "      <th>6</th>\n",
              "      <td>Gungrave</td>\n",
              "      <td>0.536635</td>\n",
              "      <td>TV</td>\n",
              "      <td>7.97</td>\n",
              "      <td>Action, Drama, Sci-Fi, Seinen, Super Power</td>\n",
              "    </tr>\n",
              "    <tr>\n",
              "      <th>7</th>\n",
              "      <td>Bobobo-bo Bo-bobo Recap</td>\n",
              "      <td>0.535226</td>\n",
              "      <td>Special</td>\n",
              "      <td>6.54</td>\n",
              "      <td>Action, Comedy, Parody, Sci-Fi, Shounen</td>\n",
              "    </tr>\n",
              "    <tr>\n",
              "      <th>8</th>\n",
              "      <td>Darker than Black: Kuro no Keiyakusha Special</td>\n",
              "      <td>0.483113</td>\n",
              "      <td>Special</td>\n",
              "      <td>7.65</td>\n",
              "      <td>Comedy, Parody, Sci-Fi</td>\n",
              "    </tr>\n",
              "    <tr>\n",
              "      <th>9</th>\n",
              "      <td>Haiyore! Nyaruko-san W</td>\n",
              "      <td>0.483113</td>\n",
              "      <td>TV</td>\n",
              "      <td>7.43</td>\n",
              "      <td>Comedy, Parody, Sci-Fi</td>\n",
              "    </tr>\n",
              "    <tr>\n",
              "      <th>10</th>\n",
              "      <td>Haiyore! Nyaruko-san: Yasashii Teki no Shitome...</td>\n",
              "      <td>0.483113</td>\n",
              "      <td>OVA</td>\n",
              "      <td>7.27</td>\n",
              "      <td>Comedy, Parody, Sci-Fi</td>\n",
              "    </tr>\n",
              "  </tbody>\n",
              "</table>\n",
              "</div>"
            ],
            "text/plain": [
              "                                           Anime name  ...                                              genre\n",
              "0                                       One Punch Man  ...  Action, Comedy, Parody, Sci-Fi, Seinen, Super ...\n",
              "1                              One Punch Man Specials  ...  Action, Comedy, Parody, Sci-Fi, Seinen, Super ...\n",
              "2                         One Punch Man: Road to Hero  ...  Action, Comedy, Parody, Sci-Fi, Seinen, Super ...\n",
              "3                              Genji Tsuushin Agedama  ...                     Action, Comedy, Parody, Sci-Fi\n",
              "4                                 Oh! Super Milk-chan  ...                     Action, Comedy, Parody, Sci-Fi\n",
              "5                                     Super Milk-chan  ...                     Action, Comedy, Parody, Sci-Fi\n",
              "6                                            Gungrave  ...         Action, Drama, Sci-Fi, Seinen, Super Power\n",
              "7                             Bobobo-bo Bo-bobo Recap  ...            Action, Comedy, Parody, Sci-Fi, Shounen\n",
              "8       Darker than Black: Kuro no Keiyakusha Special  ...                             Comedy, Parody, Sci-Fi\n",
              "9                              Haiyore! Nyaruko-san W  ...                             Comedy, Parody, Sci-Fi\n",
              "10  Haiyore! Nyaruko-san: Yasashii Teki no Shitome...  ...                             Comedy, Parody, Sci-Fi\n",
              "\n",
              "[11 rows x 5 columns]"
            ]
          },
          "metadata": {},
          "execution_count": 24
        }
      ]
    },
    {
      "cell_type": "markdown",
      "metadata": {
        "id": "SOLfMc-KYJe3"
      },
      "source": [
        "Pada table diatas dapat dilihat bahwa terdapat 10 anime yang memiliki similarity(kesamaan) genre yang tinggi pada sebuah anime dengan judul \"One Punch Man\" dan seluruh anime yang direkomendasikan yang memiliki genre yang relevan dengan anime \"One Punch Man\""
      ]
    },
    {
      "cell_type": "markdown",
      "metadata": {
        "id": "sA0PjYu-XqKw"
      },
      "source": [
        "## Modelling dengan Deep Leaning (Collaborative Filtering)\n",
        "Disini saya melakukan Collaborative Filtering berdasarkan rating dari anime dari user, berikut tahapannya.\n",
        "1. Menganalisis data rating.\n",
        "2. Membuang rating yang tidak digunakan atau diperlukan.\n",
        "3. Melakukan encoder terhadap 'user_id' dan 'anime_id'\n",
        "4. Menghitung jumlah 'user_id' dan 'anime_id'\n",
        "5. Melakukan modelling yang diawali dengan melakukan splitting terhadap data.\n",
        "6. Membuat fungsi untuk model hingga evaluasi model p\n",
        "7. Membuat fungsi untuk melakukan prediksi terhadap anime yang akan direkomendasikan kepada pengguna.\n",
        "8. Menentukan model terbaik dalam memberikan rekomendasi terhadap pengguna."
      ]
    },
    {
      "cell_type": "code",
      "metadata": {
        "colab": {
          "base_uri": "https://localhost:8080/",
          "height": 362
        },
        "id": "-bZmZPMyY5G9",
        "outputId": "63030907-2d46-4c35-e831-4d68b86efe10"
      },
      "source": [
        "rating_df[rating_df['rating'] == -1][['user_id', 'anime_id', 'rating']].sort_values(by='rating', ascending=False)[:10]"
      ],
      "execution_count": null,
      "outputs": [
        {
          "output_type": "execute_result",
          "data": {
            "text/html": [
              "<div>\n",
              "<style scoped>\n",
              "    .dataframe tbody tr th:only-of-type {\n",
              "        vertical-align: middle;\n",
              "    }\n",
              "\n",
              "    .dataframe tbody tr th {\n",
              "        vertical-align: top;\n",
              "    }\n",
              "\n",
              "    .dataframe thead th {\n",
              "        text-align: right;\n",
              "    }\n",
              "</style>\n",
              "<table border=\"1\" class=\"dataframe\">\n",
              "  <thead>\n",
              "    <tr style=\"text-align: right;\">\n",
              "      <th></th>\n",
              "      <th>user_id</th>\n",
              "      <th>anime_id</th>\n",
              "      <th>rating</th>\n",
              "    </tr>\n",
              "  </thead>\n",
              "  <tbody>\n",
              "    <tr>\n",
              "      <th>0</th>\n",
              "      <td>1</td>\n",
              "      <td>20</td>\n",
              "      <td>-1</td>\n",
              "    </tr>\n",
              "    <tr>\n",
              "      <th>5109801</th>\n",
              "      <td>48797</td>\n",
              "      <td>4382</td>\n",
              "      <td>-1</td>\n",
              "    </tr>\n",
              "    <tr>\n",
              "      <th>5109799</th>\n",
              "      <td>48797</td>\n",
              "      <td>2904</td>\n",
              "      <td>-1</td>\n",
              "    </tr>\n",
              "    <tr>\n",
              "      <th>5109798</th>\n",
              "      <td>48797</td>\n",
              "      <td>2236</td>\n",
              "      <td>-1</td>\n",
              "    </tr>\n",
              "    <tr>\n",
              "      <th>5109797</th>\n",
              "      <td>48797</td>\n",
              "      <td>2167</td>\n",
              "      <td>-1</td>\n",
              "    </tr>\n",
              "    <tr>\n",
              "      <th>5109796</th>\n",
              "      <td>48797</td>\n",
              "      <td>2129</td>\n",
              "      <td>-1</td>\n",
              "    </tr>\n",
              "    <tr>\n",
              "      <th>5109795</th>\n",
              "      <td>48797</td>\n",
              "      <td>1818</td>\n",
              "      <td>-1</td>\n",
              "    </tr>\n",
              "    <tr>\n",
              "      <th>5109794</th>\n",
              "      <td>48797</td>\n",
              "      <td>1691</td>\n",
              "      <td>-1</td>\n",
              "    </tr>\n",
              "    <tr>\n",
              "      <th>5109793</th>\n",
              "      <td>48797</td>\n",
              "      <td>1689</td>\n",
              "      <td>-1</td>\n",
              "    </tr>\n",
              "    <tr>\n",
              "      <th>5109792</th>\n",
              "      <td>48797</td>\n",
              "      <td>1575</td>\n",
              "      <td>-1</td>\n",
              "    </tr>\n",
              "  </tbody>\n",
              "</table>\n",
              "</div>"
            ],
            "text/plain": [
              "         user_id  anime_id  rating\n",
              "0              1        20      -1\n",
              "5109801    48797      4382      -1\n",
              "5109799    48797      2904      -1\n",
              "5109798    48797      2236      -1\n",
              "5109797    48797      2167      -1\n",
              "5109796    48797      2129      -1\n",
              "5109795    48797      1818      -1\n",
              "5109794    48797      1691      -1\n",
              "5109793    48797      1689      -1\n",
              "5109792    48797      1575      -1"
            ]
          },
          "metadata": {},
          "execution_count": 25
        }
      ]
    },
    {
      "cell_type": "code",
      "metadata": {
        "colab": {
          "base_uri": "https://localhost:8080/",
          "height": 281
        },
        "id": "kZz-zhwNZCH8",
        "outputId": "40f1e38e-2152-4dc1-c77f-1117f03ac351"
      },
      "source": [
        "rating_count = rating_df['rating'].value_counts().sort_index()\n",
        "\n",
        "sns.barplot(x=rating_count.index,\n",
        "            y=rating_count.values,\n",
        "            palette='Greens_d').set_title('Perbandingan jumlah rating antara -1 sampai 10');"
      ],
      "execution_count": null,
      "outputs": [
        {
          "output_type": "display_data",
          "data": {
            "image/png": "[encoded data removed]",
            "text/plain": [
              "<Figure size 432x288 with 1 Axes>"
            ]
          },
          "metadata": {
            "needs_background": "light"
          }
        }
      ]
    },
    {
      "cell_type": "markdown",
      "metadata": {
        "id": "EnSPjwbvZZGy"
      },
      "source": [
        "Pada diagram diatas dapat disimpulkan terdapat banyak pengguna yang tidak memberi rating. Nilai '-1' berarti pengguna sudah menonton anime tersebut, tetapi tidak memberikan peringkat, jadi saya menghapus rating tersebut."
      ]
    },
    {
      "cell_type": "code",
      "metadata": {
        "colab": {
          "base_uri": "https://localhost:8080/"
        },
        "id": "kmHAsM3CZKj7",
        "outputId": "e1a741e6-dd92-4a90-c096-a71e4e284af4"
      },
      "source": [
        "mask = (rating_df['rating'] == -1)\n",
        "rating_df = rating_df.loc[~mask]\n",
        "len(rating_df)"
      ],
      "execution_count": null,
      "outputs": [
        {
          "output_type": "execute_result",
          "data": {
            "text/plain": [
              "6337241"
            ]
          },
          "metadata": {},
          "execution_count": 27
        }
      ]
    },
    {
      "cell_type": "code",
      "metadata": {
        "colab": {
          "base_uri": "https://localhost:8080/",
          "height": 281
        },
        "id": "zUWnnEsUZUBU",
        "outputId": "bfdddc0a-12f6-4c71-c50d-b06e777b54d5"
      },
      "source": [
        "rating_count = rating_df['rating'].value_counts().sort_index()\n",
        "\n",
        "sns.barplot(x=rating_count.index,\n",
        "            y=rating_count.values,\n",
        "            palette='Greens_d').set_title('Perbandingan jumlah rating antara 1 sampai 10');"
      ],
      "execution_count": null,
      "outputs": [
        {
          "output_type": "display_data",
          "data": {
            "image/png": "[encoded data removed]",
            "text/plain": [
              "<Figure size 432x288 with 1 Axes>"
            ]
          },
          "metadata": {
            "needs_background": "light"
          }
        }
      ]
    },
    {
      "cell_type": "code",
      "metadata": {
        "id": "prZq4p7taCIU"
      },
      "source": [
        "user_enc = LabelEncoder()\n",
        "rating_df['user_id'] = user_enc.fit_transform(rating_df['user_id'])\n",
        "\n",
        "anime_enc = LabelEncoder()\n",
        "rating_df['anime_id'] = anime_enc.fit_transform(rating_df['anime_id'])"
      ],
      "execution_count": null,
      "outputs": []
    },
    {
      "cell_type": "code",
      "metadata": {
        "colab": {
          "base_uri": "https://localhost:8080/"
        },
        "id": "G2Y9enibaILT",
        "outputId": "d519c50b-eb96-4e2a-b327-ca15240c5368"
      },
      "source": [
        "anime_nunique = rating_df['anime_id'].nunique()\n",
        "userid_nunique = rating_df['user_id'].nunique()\n",
        "\n",
        "print('Jumlah anime :', anime_nunique)\n",
        "print('Jumlah penonton :', userid_nunique)"
      ],
      "execution_count": null,
      "outputs": [
        {
          "output_type": "stream",
          "name": "stdout",
          "text": [
            "Jumlah anime : 9927\n",
            "Jumlah penonton : 69600\n"
          ]
        }
      ]
    },
    {
      "cell_type": "code",
      "metadata": {
        "id": "ZhEQCFSZaaaD"
      },
      "source": [
        "rating_df = rating_df[rating_df['user_id'] < 10000]"
      ],
      "execution_count": null,
      "outputs": []
    },
    {
      "cell_type": "markdown",
      "metadata": {
        "id": "snP4tEWfafvR"
      },
      "source": [
        "## Create Model\n"
      ]
    },
    {
      "cell_type": "markdown",
      "metadata": {
        "id": "_IZD3S4saj-v"
      },
      "source": [
        "### Spliting Data\n"
      ]
    },
    {
      "cell_type": "code",
      "metadata": {
        "colab": {
          "base_uri": "https://localhost:8080/"
        },
        "id": "-hQFvB0Maisv",
        "outputId": "0f517eb8-9dbc-4d47-87a2-f737ed94af1e"
      },
      "source": [
        "X = rating_df.drop(['rating'], axis=1)\n",
        "y = rating_df['rating']\n",
        "\n",
        "X_train, X_val, y_train, y_val = train_test_split(X, y,\n",
        "                                                  test_size=.1,\n",
        "                                                  stratify=y,\n",
        "                                                  random_state=2020)\n",
        "\n",
        "X_train.shape, X_val.shape, y_train.shape, y_val.shape"
      ],
      "execution_count": null,
      "outputs": [
        {
          "output_type": "execute_result",
          "data": {
            "text/plain": [
              "((808262, 2), (89807, 2), (808262,), (89807,))"
            ]
          },
          "metadata": {},
          "execution_count": 32
        }
      ]
    },
    {
      "cell_type": "markdown",
      "metadata": {
        "id": "_WCMSpnPy2B5"
      },
      "source": [
        ""
      ]
    },
    {
      "cell_type": "markdown",
      "metadata": {
        "id": "7V99QricbAMB"
      },
      "source": [
        "####Model 1"
      ]
    },
    {
      "cell_type": "code",
      "metadata": {
        "id": "HAoBzORFbEa_"
      },
      "source": [
        "def RecommenderV1(n_users, n_animes, n_dim):\n",
        "    \n",
        "    # User\n",
        "    user = Input(shape=(1,))\n",
        "    U = Embedding(n_users, n_dim)(user)\n",
        "    U = Flatten()(U)\n",
        "    \n",
        "    # Anime\n",
        "    anime = Input(shape=(1,))\n",
        "    A = Embedding(n_animes, n_dim)(anime)\n",
        "    A = Flatten()(A)\n",
        "    \n",
        "    # Dot U and A\n",
        "    x = Dot(axes=1)([U, A])\n",
        "    \n",
        "    model1 = Model(inputs=[user, anime], outputs=x)\n",
        "    \n",
        "    model1.compile(\n",
        "                  optimizer=Adam(0.0001),\n",
        "                  loss='mean_squared_error',\n",
        "                  metrics=[tf.keras.metrics.RootMeanSquaredError()]\n",
        "                  )\n",
        "    model1.summary()\n",
        "    return model1"
      ],
      "execution_count": null,
      "outputs": []
    },
    {
      "cell_type": "code",
      "metadata": {
        "id": "mDWT3NEBbaQP",
        "colab": {
          "base_uri": "https://localhost:8080/"
        },
        "outputId": "8ad7a626-cc29-4408-a007-ecb67c536700"
      },
      "source": [
        "model1 = RecommenderV1(userid_nunique, anime_nunique, 100)"
      ],
      "execution_count": null,
      "outputs": [
        {
          "output_type": "stream",
          "name": "stdout",
          "text": [
            "Model: \"model\"\n",
            "__________________________________________________________________________________________________\n",
            " Layer (type)                   Output Shape         Param #     Connected to                     \n",
            "==================================================================================================\n",
            " input_1 (InputLayer)           [(None, 1)]          0           []                               \n",
            "                                                                                                  \n",
            " input_2 (InputLayer)           [(None, 1)]          0           []                               \n",
            "                                                                                                  \n",
            " embedding (Embedding)          (None, 1, 100)       6960000     ['input_1[0][0]']                \n",
            "                                                                                                  \n",
            " embedding_1 (Embedding)        (None, 1, 100)       992700      ['input_2[0][0]']                \n",
            "                                                                                                  \n",
            " flatten (Flatten)              (None, 100)          0           ['embedding[0][0]']              \n",
            "                                                                                                  \n",
            " flatten_1 (Flatten)            (None, 100)          0           ['embedding_1[0][0]']            \n",
            "                                                                                                  \n",
            " dot (Dot)                      (None, 1)            0           ['flatten[0][0]',                \n",
            "                                                                  'flatten_1[0][0]']              \n",
            "                                                                                                  \n",
            "==================================================================================================\n",
            "Total params: 7,952,700\n",
            "Trainable params: 7,952,700\n",
            "Non-trainable params: 0\n",
            "__________________________________________________________________________________________________\n"
          ]
        }
      ]
    },
    {
      "cell_type": "code",
      "metadata": {
        "id": "wbws97PTbpu3"
      },
      "source": [
        "checkpoint1 = ModelCheckpoint('model1.h5', monitor='val_loss', verbose=0, save_best_only=True)"
      ],
      "execution_count": null,
      "outputs": []
    },
    {
      "cell_type": "code",
      "metadata": {
        "colab": {
          "base_uri": "https://localhost:8080/"
        },
        "id": "GJKkXyc4bwLu",
        "outputId": "e8586709-8578-4b9b-ad2e-8d5d1e19c820"
      },
      "source": [
        "history1 = model1.fit(x=[X_train['user_id'], X_train['anime_id']],\n",
        "                    y=y_train,\n",
        "                    batch_size=64,\n",
        "                    epochs=15,\n",
        "                    verbose=1,\n",
        "                    validation_data=([X_val['user_id'], X_val['anime_id']], y_val),\n",
        "                    callbacks=[checkpoint1])"
      ],
      "execution_count": null,
      "outputs": [
        {
          "output_type": "stream",
          "name": "stdout",
          "text": [
            "Epoch 1/15\n",
            "12630/12630 [==============================] - 130s 10ms/step - loss: 61.9972 - root_mean_squared_error: 7.8738 - val_loss: 55.9465 - val_root_mean_squared_error: 7.4797\n",
            "Epoch 2/15\n",
            "12630/12630 [==============================] - 126s 10ms/step - loss: 35.0288 - root_mean_squared_error: 5.9185 - val_loss: 17.5227 - val_root_mean_squared_error: 4.1860\n",
            "Epoch 3/15\n",
            "12630/12630 [==============================] - 125s 10ms/step - loss: 11.0670 - root_mean_squared_error: 3.3267 - val_loss: 7.3677 - val_root_mean_squared_error: 2.7143\n",
            "Epoch 4/15\n",
            "12630/12630 [==============================] - 128s 10ms/step - loss: 5.5269 - root_mean_squared_error: 2.3509 - val_loss: 4.5506 - val_root_mean_squared_error: 2.1332\n",
            "Epoch 5/15\n",
            "12630/12630 [==============================] - 125s 10ms/step - loss: 3.7416 - root_mean_squared_error: 1.9343 - val_loss: 3.4444 - val_root_mean_squared_error: 1.8559\n",
            "Epoch 6/15\n",
            "12630/12630 [==============================] - 125s 10ms/step - loss: 2.9577 - root_mean_squared_error: 1.7198 - val_loss: 2.8892 - val_root_mean_squared_error: 1.6998\n",
            "Epoch 7/15\n",
            "12630/12630 [==============================] - 124s 10ms/step - loss: 2.5322 - root_mean_squared_error: 1.5913 - val_loss: 2.5652 - val_root_mean_squared_error: 1.6016\n",
            "Epoch 8/15\n",
            "12630/12630 [==============================] - 128s 10ms/step - loss: 2.2710 - root_mean_squared_error: 1.5070 - val_loss: 2.3541 - val_root_mean_squared_error: 1.5343\n",
            "Epoch 9/15\n",
            "12630/12630 [==============================] - 125s 10ms/step - loss: 2.0957 - root_mean_squared_error: 1.4477 - val_loss: 2.2086 - val_root_mean_squared_error: 1.4861\n",
            "Epoch 10/15\n",
            "12630/12630 [==============================] - 125s 10ms/step - loss: 1.9695 - root_mean_squared_error: 1.4034 - val_loss: 2.1000 - val_root_mean_squared_error: 1.4491\n",
            "Epoch 11/15\n",
            "12630/12630 [==============================] - 125s 10ms/step - loss: 1.8735 - root_mean_squared_error: 1.3688 - val_loss: 2.0148 - val_root_mean_squared_error: 1.4194\n",
            "Epoch 12/15\n",
            "12630/12630 [==============================] - 125s 10ms/step - loss: 1.7956 - root_mean_squared_error: 1.3400 - val_loss: 1.9467 - val_root_mean_squared_error: 1.3953\n",
            "Epoch 13/15\n",
            "12630/12630 [==============================] - 125s 10ms/step - loss: 1.7310 - root_mean_squared_error: 1.3157 - val_loss: 1.8881 - val_root_mean_squared_error: 1.3741\n",
            "Epoch 14/15\n",
            "12630/12630 [==============================] - 125s 10ms/step - loss: 1.6750 - root_mean_squared_error: 1.2942 - val_loss: 1.8380 - val_root_mean_squared_error: 1.3557\n",
            "Epoch 15/15\n",
            "12630/12630 [==============================] - 125s 10ms/step - loss: 1.6260 - root_mean_squared_error: 1.2751 - val_loss: 1.7961 - val_root_mean_squared_error: 1.3402\n"
          ]
        }
      ]
    },
    {
      "cell_type": "code",
      "metadata": {
        "id": "UOE2zRM_gG7g"
      },
      "source": [
        "def make_pred(user_id, anime_id, model):\n",
        "    return model.predict([np.array([user_id]), np.array([anime_id])])[0][0]"
      ],
      "execution_count": null,
      "outputs": []
    },
    {
      "cell_type": "code",
      "metadata": {
        "id": "zKHAfzL3gImx"
      },
      "source": [
        "def get_user_rec(user_id, model):\n",
        "    \n",
        "    user_id = int(user_id) - 1\n",
        "    user_rating = rating_df[rating_df['user_id'] == user_id]\n",
        "    recommendation = rating_df[~rating_df['anime_id'].isin(user_rating['anime_id'])][['anime_id']].drop_duplicates()\n",
        "    recommendation['rating_predict'] = recommendation.apply(lambda x: make_pred(user_id, x['anime_id'] , model), axis=1)\n",
        "    recommendation.loc[:, 'rating_predict'] = recommendation['rating_predict']  -1 \n",
        "    \n",
        "    \n",
        "    final_rec = recommendation.sort_values(by='rating_predict', ascending=False).merge(anime_data[['anime_id', 'name', 'type', 'members']],\n",
        "                                                                                       on='anime_id').head(10)\n",
        "    \n",
        "    return final_rec.sort_values('rating_predict', ascending=False)[['name', 'type', 'rating_predict']]"
      ],
      "execution_count": null,
      "outputs": []
    },
    {
      "cell_type": "markdown",
      "metadata": {
        "id": "aR5aoS7P0aAX"
      },
      "source": [
        "####Result model "
      ]
    },
    {
      "cell_type": "code",
      "metadata": {
        "id": "I91GjbRw0xNp",
        "colab": {
          "base_uri": "https://localhost:8080/",
          "height": 362
        },
        "outputId": "27f8fc34-e4f4-48bb-c9da-80e6cfabc6b1"
      },
      "source": [
        "get_user_rec(48, model1)"
      ],
      "execution_count": null,
      "outputs": [
        {
          "output_type": "execute_result",
          "data": {
            "text/html": [
              "<div>\n",
              "<style scoped>\n",
              "    .dataframe tbody tr th:only-of-type {\n",
              "        vertical-align: middle;\n",
              "    }\n",
              "\n",
              "    .dataframe tbody tr th {\n",
              "        vertical-align: top;\n",
              "    }\n",
              "\n",
              "    .dataframe thead th {\n",
              "        text-align: right;\n",
              "    }\n",
              "</style>\n",
              "<table border=\"1\" class=\"dataframe\">\n",
              "  <thead>\n",
              "    <tr style=\"text-align: right;\">\n",
              "      <th></th>\n",
              "      <th>name</th>\n",
              "      <th>type</th>\n",
              "      <th>rating_predict</th>\n",
              "    </tr>\n",
              "  </thead>\n",
              "  <tbody>\n",
              "    <tr>\n",
              "      <th>0</th>\n",
              "      <td>Koi Hanabi</td>\n",
              "      <td>Music</td>\n",
              "      <td>9.904014</td>\n",
              "    </tr>\n",
              "    <tr>\n",
              "      <th>1</th>\n",
              "      <td>Ookami to Koushinryou II Specials</td>\n",
              "      <td>Special</td>\n",
              "      <td>9.649752</td>\n",
              "    </tr>\n",
              "    <tr>\n",
              "      <th>2</th>\n",
              "      <td>Astarotte no Omocha!</td>\n",
              "      <td>TV</td>\n",
              "      <td>9.600610</td>\n",
              "    </tr>\n",
              "    <tr>\n",
              "      <th>3</th>\n",
              "      <td>Oni Chichi</td>\n",
              "      <td>OVA</td>\n",
              "      <td>9.593935</td>\n",
              "    </tr>\n",
              "    <tr>\n",
              "      <th>4</th>\n",
              "      <td>Anime Yasei no Sakebi</td>\n",
              "      <td>TV</td>\n",
              "      <td>9.436468</td>\n",
              "    </tr>\n",
              "    <tr>\n",
              "      <th>5</th>\n",
              "      <td>Chicchana Yukitsukai Sugar</td>\n",
              "      <td>TV</td>\n",
              "      <td>9.392259</td>\n",
              "    </tr>\n",
              "    <tr>\n",
              "      <th>6</th>\n",
              "      <td>Personal Computer Travel Tanteidan</td>\n",
              "      <td>TV</td>\n",
              "      <td>9.387997</td>\n",
              "    </tr>\n",
              "    <tr>\n",
              "      <th>7</th>\n",
              "      <td>Daisetsusan no Yuusha Kibaou</td>\n",
              "      <td>Special</td>\n",
              "      <td>9.371376</td>\n",
              "    </tr>\n",
              "    <tr>\n",
              "      <th>8</th>\n",
              "      <td>Genius Party</td>\n",
              "      <td>Movie</td>\n",
              "      <td>9.366561</td>\n",
              "    </tr>\n",
              "    <tr>\n",
              "      <th>9</th>\n",
              "      <td>Kojin Jugyou The Animation: Schoolgirl Ready f...</td>\n",
              "      <td>OVA</td>\n",
              "      <td>9.290218</td>\n",
              "    </tr>\n",
              "  </tbody>\n",
              "</table>\n",
              "</div>"
            ],
            "text/plain": [
              "                                                name     type  rating_predict\n",
              "0                                         Koi Hanabi    Music        9.904014\n",
              "1                  Ookami to Koushinryou II Specials  Special        9.649752\n",
              "2                               Astarotte no Omocha!       TV        9.600610\n",
              "3                                         Oni Chichi      OVA        9.593935\n",
              "4                              Anime Yasei no Sakebi       TV        9.436468\n",
              "5                         Chicchana Yukitsukai Sugar       TV        9.392259\n",
              "6                 Personal Computer Travel Tanteidan       TV        9.387997\n",
              "7                       Daisetsusan no Yuusha Kibaou  Special        9.371376\n",
              "8                                       Genius Party    Movie        9.366561\n",
              "9  Kojin Jugyou The Animation: Schoolgirl Ready f...      OVA        9.290218"
            ]
          },
          "metadata": {},
          "execution_count": 39
        }
      ]
    },
    {
      "cell_type": "markdown",
      "metadata": {
        "id": "OLZ6Q-Gw0-om"
      },
      "source": [
        "Pada hasil diatas dapat dilihat bahwa hasil dari permodelan menggunakan colaborative learning menghasilkan nilak rating_predictnya sebesar 10.166964"
      ]
    },
    {
      "cell_type": "markdown",
      "metadata": {
        "id": "EUwWlSTG0_Di"
      },
      "source": [
        "# Evaluation"
      ]
    },
    {
      "cell_type": "markdown",
      "metadata": {
        "id": "8xxmnW7SO92I"
      },
      "source": [
        "## Loss (Mean Squared Error Loss)\n"
      ]
    },
    {
      "cell_type": "code",
      "metadata": {
        "colab": {
          "base_uri": "https://localhost:8080/",
          "height": 295
        },
        "id": "kafOo1JJSij2",
        "outputId": "c281870b-6643-4d20-ba48-d6bcd08eeb4d"
      },
      "source": [
        "plt.plot(history1.history['loss'])\n",
        "plt.plot(history1.history['val_loss'])\n",
        "plt.title('Metriks Loss model')\n",
        "plt.ylabel('Loss')\n",
        "plt.xlabel('epoch')\n",
        "plt.legend(['loss', 'val_loss'], loc='upper right')\n",
        "plt.show()"
      ],
      "execution_count": null,
      "outputs": [
        {
          "output_type": "display_data",
          "data": {
            "image/png": "[encoded data removed]",
            "text/plain": [
              "<Figure size 432x288 with 1 Axes>"
            ]
          },
          "metadata": {
            "needs_background": "light"
          }
        }
      ]
    },
    {
      "cell_type": "markdown",
      "metadata": {
        "id": "sbAjwC7CO4Uj"
      },
      "source": [
        "## RMSE (Root Mean Squared Error)\n"
      ]
    },
    {
      "cell_type": "code",
      "metadata": {
        "id": "sW1v3y5pZUT6",
        "colab": {
          "base_uri": "https://localhost:8080/",
          "height": 295
        },
        "outputId": "92b12027-deb4-454b-a191-8cd3078a6c7e"
      },
      "source": [
        "plt.plot(history1.history['root_mean_squared_error'])\n",
        "plt.plot(history1.history['val_root_mean_squared_error'])\n",
        "plt.title('Metriks RMSE Model')\n",
        "plt.ylabel('root_mean_squared_error')\n",
        "plt.ylabel('val_root_mean_squared_error')\n",
        "plt.xlabel('epoch')\n",
        "plt.legend(['loss', 'val_loss'], loc='upper right')\n",
        "plt.show()"
      ],
      "execution_count": null,
      "outputs": [
        {
          "output_type": "display_data",
          "data": {
            "image/png": "[encoded data removed]",
            "text/plain": [
              "<Figure size 432x288 with 1 Axes>"
            ]
          },
          "metadata": {
            "needs_background": "light"
          }
        }
      ]
    },
    {
      "cell_type": "markdown",
      "metadata": {
        "id": "eBs0xrnna7BT"
      },
      "source": [
        ""
      ]
    },
    {
      "cell_type": "markdown",
      "metadata": {
        "id": "IPSZX4s9LHJn"
      },
      "source": [
        "##Precision\n",
        "Precision adalah rasio prediksi data benar positif dibandingkan dengan keseluruhan hasil yang diprediksi positf. Precision juga menentukan tingkat ketepatan antara informasi yang diminta oleh pengguna dengan jawaban yang diberikan oleh sistem. Pada kasus ini kita tidak bisa menghitung dengan memanggil library 'scikit learn' karena tidak terdapat data target/label seperti pada supervised learning. maka dari itu disini saya akan menghitung metrics evaluasinya secara manual dengan menggunakan rumus sebagai berikut.\n",
        "\n",
        "Berdasarkan dari rekomendasi yang terdapat pada model cosine similarity terdapat 10/10 anime yang direkomendasikan yang memiliki genre yang relevan dengan \"One Punch Man\" maka metrik evaluasinya adalah 10/10 = 1. Jadi Precision dari model cosine similarity adalah 1\n",
        "."
      ]
    },
    {
      "cell_type": "markdown",
      "metadata": {
        "id": "s3nrplYaQNkr"
      },
      "source": [
        "##Berdasarkan proses yang sudah dilakukan sebelumnya maka dapat disumpulkan bahwa dari pembuatan sistem rekomendasi anime dengan memanfaatkan *Content-Based Recommendation system* dan *Collaborative Filtering* maka didapatkan hasil yang sesuai seperti yang diharapkan sebelumnya, yaitu sistem dapat merekomendasikan judul anime berdasarkan genre yang relevan dan juga bedasarkan hasil review/rating penonton lain terhadap anime sekaligus dapat merekomendasikan anime terhadap sebuah user dengan prediksi yang cukup baik."
      ]
    }
  ]
}